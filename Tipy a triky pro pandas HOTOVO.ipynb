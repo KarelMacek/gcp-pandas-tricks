{
 "cells": [
  {
   "cell_type": "markdown",
   "id": "c051f251",
   "metadata": {},
   "source": [
    "# Tipy a triky pro pandas\n",
    "\n",
    "## Cíle - co se naučíme\n",
    "* Číst data z 'nehezkého' Excelu\n",
    "* Indexaci pomocí `loc` a `iloc`\n",
    "* Odvozovat další sloupce pomocí řádkových funkcí\n",
    "* Indexaci boolovskými hodnotami\n",
    "* Vytvářet proměnné z textových proměnných\n",
    "* Parsovat český formát data `01.12.2020`\n",
    "* Vytvářet proměnné z datumu a času\n",
    "* Vytvářet kontingenční tabulky a jiné agegace (včetně nových proměnných)\n",
    "\n",
    "Nakonec budeme pracovat s reálnými daty z oblasti duplicitních skenů.\n",
    "\n",
    "Začněme importem knihovny pandas. Vždy takto, je to idiom."
   ]
  },
  {
   "cell_type": "code",
   "execution_count": 1,
   "id": "43656141",
   "metadata": {},
   "outputs": [],
   "source": [
    "import pandas as pd"
   ]
  },
  {
   "cell_type": "markdown",
   "id": "81dec17b",
   "metadata": {},
   "source": [
    "## Čtení dat z \"nehezkého\" Excelu"
   ]
  },
  {
   "cell_type": "code",
   "execution_count": 2,
   "id": "8a376de3",
   "metadata": {},
   "outputs": [],
   "source": [
    "df = pd.read_excel(\"/data/duplicity/Duplicity_MobSken-2021_03-05.xlsx\", sheet_name=\"Duplicity-MobSken\", skiprows=4,engine='openpyxl')"
   ]
  },
  {
   "cell_type": "code",
   "execution_count": 3,
   "id": "517f9fde",
   "metadata": {},
   "outputs": [],
   "source": [
    "df.head();"
   ]
  },
  {
   "cell_type": "code",
   "execution_count": 4,
   "id": "80a63402",
   "metadata": {},
   "outputs": [],
   "source": [
    "df.head(5).transpose();"
   ]
  },
  {
   "cell_type": "markdown",
   "id": "e4a7c7a7",
   "metadata": {},
   "source": [
    "## Ze dvou sloupců uděláme jiné dva"
   ]
  },
  {
   "cell_type": "code",
   "execution_count": 5,
   "id": "592d4afc",
   "metadata": {},
   "outputs": [],
   "source": [
    "def get_origin_and_origin_type(row):\n",
    "    if pd.isna(row['Pracovník']):\n",
    "        origin = 'Pobočka'\n",
    "    else:\n",
    "        origin = 'Pracovník'\n",
    "    return pd.Series({'Typ zdroje': origin, \n",
    "                      'Zdroj': row[origin]})           "
   ]
  },
  {
   "cell_type": "code",
   "execution_count": 6,
   "id": "e8a0b06e",
   "metadata": {},
   "outputs": [],
   "source": [
    "df_origin = df.apply(get_origin_and_origin_type,axis=1)\n",
    "df = pd.concat([df, df_origin], axis=1)"
   ]
  },
  {
   "cell_type": "code",
   "execution_count": 7,
   "id": "9017c2e6",
   "metadata": {},
   "outputs": [],
   "source": [
    "df.head().transpose();"
   ]
  },
  {
   "cell_type": "code",
   "execution_count": 8,
   "id": "032c4240",
   "metadata": {},
   "outputs": [],
   "source": [
    "df.columns;"
   ]
  },
  {
   "cell_type": "code",
   "execution_count": 9,
   "id": "68433c5e",
   "metadata": {},
   "outputs": [],
   "source": [
    "df.loc[:,['Pojistná smlouva', 'Pojistná událost', 'Číslo návrhu',\n",
    "       'Obchodní případ',]].notna().sum(axis=1).max();"
   ]
  },
  {
   "cell_type": "markdown",
   "id": "42237daa",
   "metadata": {},
   "source": [
    "Závěr: Tyto tři objekty se někdy vyskytují dohromady. Nemá cenu s nimi zacházet podobně jako se sloupci `Pracovník` a `Pobočka`."
   ]
  },
  {
   "cell_type": "markdown",
   "id": "579adfab",
   "metadata": {},
   "source": [
    "## Proměnné z textových sloupců\n",
    "Jaké máme druhy faktur?\n",
    "\n"
   ]
  },
  {
   "cell_type": "code",
   "execution_count": 10,
   "id": "f842769d",
   "metadata": {},
   "outputs": [],
   "source": [
    "df_faktury = df[df['Typ dokumentu'].notna() & df['Typ dokumentu'].str.contains('aktur')]\n",
    "df_faktury;"
   ]
  },
  {
   "cell_type": "code",
   "execution_count": 11,
   "id": "1eb334b7",
   "metadata": {},
   "outputs": [],
   "source": [
    "df_faktury['Typ dokumentu'].unique();"
   ]
  },
  {
   "cell_type": "code",
   "execution_count": 12,
   "id": "01f043ec",
   "metadata": {},
   "outputs": [],
   "source": [
    "df_faktury.groupby('Typ dokumentu').count()['ID dokumentu'];"
   ]
  },
  {
   "cell_type": "markdown",
   "id": "8a18c338",
   "metadata": {},
   "source": [
    "## Práce s datumem a časem"
   ]
  },
  {
   "cell_type": "code",
   "execution_count": 13,
   "id": "eb1ce01c",
   "metadata": {},
   "outputs": [],
   "source": [
    "df['Datum skenování'];"
   ]
  },
  {
   "cell_type": "code",
   "execution_count": 14,
   "id": "fa7c6144",
   "metadata": {},
   "outputs": [],
   "source": [
    "pd.to_datetime(df['Datum skenování']);"
   ]
  },
  {
   "cell_type": "code",
   "execution_count": 15,
   "id": "d41197de",
   "metadata": {},
   "outputs": [],
   "source": [
    "df['Datum skenování'] = pd.to_datetime(df['Datum skenování'], format=\"%d.%m.%Y\");"
   ]
  },
  {
   "cell_type": "code",
   "execution_count": 16,
   "id": "77c4a803",
   "metadata": {},
   "outputs": [],
   "source": [
    "df['Datum skenování'].dt.isocalendar().week;"
   ]
  },
  {
   "cell_type": "code",
   "execution_count": 17,
   "id": "ba58c855",
   "metadata": {},
   "outputs": [],
   "source": [
    "df['Týden'] = df['Datum skenování'].dt.isocalendar().week;"
   ]
  },
  {
   "cell_type": "code",
   "execution_count": 18,
   "id": "1cc0ee4d",
   "metadata": {},
   "outputs": [],
   "source": [
    "df['Týden'].unique();"
   ]
  },
  {
   "cell_type": "markdown",
   "id": "872d9971",
   "metadata": {},
   "source": [
    "## Kontingenční tabulky"
   ]
  },
  {
   "cell_type": "code",
   "execution_count": 19,
   "id": "f79231a8",
   "metadata": {},
   "outputs": [],
   "source": [
    "%matplotlib inline\n",
    "import matplotlib.pyplot as plt\n",
    "plt.rcParams['axes.facecolor'] = 'gray'\n",
    "plt.rcParams['figure.figsize'] = (20,5)"
   ]
  },
  {
   "cell_type": "code",
   "execution_count": null,
   "id": "f09d3e09",
   "metadata": {},
   "outputs": [],
   "source": []
  },
  {
   "cell_type": "code",
   "execution_count": 20,
   "id": "4603211b",
   "metadata": {},
   "outputs": [],
   "source": [
    "def pivot_table(df, columns):\n",
    "    return df.groupby(columns).count()['ID dokumentu'].unstack().fillna(0)\n",
    "\n",
    "pivot_week = pivot_table(df, ['Týden', 'Barva'])\n",
    "\n"
   ]
  },
  {
   "cell_type": "code",
   "execution_count": 21,
   "id": "b73a9c7a",
   "metadata": {},
   "outputs": [],
   "source": [
    "#pivot_week.plot.bar(color=pivot_week.columns);"
   ]
  },
  {
   "cell_type": "code",
   "execution_count": 22,
   "id": "3475121f",
   "metadata": {},
   "outputs": [],
   "source": [
    "#(pivot_week['Blue']/pivot_week['Green']).plot.bar()"
   ]
  },
  {
   "cell_type": "code",
   "execution_count": 23,
   "id": "09ee0c61",
   "metadata": {},
   "outputs": [],
   "source": [
    "pivot_typ_zdroje = pivot_table(df, ['Typ zdroje', 'Barva'])\n",
    "pivot_typ_zdroje;"
   ]
  },
  {
   "cell_type": "code",
   "execution_count": 24,
   "id": "63478f6f",
   "metadata": {},
   "outputs": [],
   "source": [
    "#pivot_typ_zdroje.plot.bar(color=pivot_typ_zdroje.columns);"
   ]
  },
  {
   "cell_type": "code",
   "execution_count": 25,
   "id": "d3ff2bc1",
   "metadata": {},
   "outputs": [],
   "source": [
    "pivot_typ_zdroje['Blue']/pivot_typ_zdroje['Green'];"
   ]
  },
  {
   "cell_type": "code",
   "execution_count": null,
   "id": "1f797155",
   "metadata": {},
   "outputs": [],
   "source": []
  },
  {
   "cell_type": "markdown",
   "id": "e9273344",
   "metadata": {},
   "source": [
    "# #############"
   ]
  }
 ],
 "metadata": {
  "kernelspec": {
   "display_name": "Python 3 (ipykernel)",
   "language": "python",
   "name": "python3"
  },
  "language_info": {
   "codemirror_mode": {
    "name": "ipython",
    "version": 3
   },
   "file_extension": ".py",
   "mimetype": "text/x-python",
   "name": "python",
   "nbconvert_exporter": "python",
   "pygments_lexer": "ipython3",
   "version": "3.7.3"
  }
 },
 "nbformat": 4,
 "nbformat_minor": 5
}
