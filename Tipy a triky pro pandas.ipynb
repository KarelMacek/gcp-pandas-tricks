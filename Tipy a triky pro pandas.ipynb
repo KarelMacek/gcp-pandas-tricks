{
 "cells": [
  {
   "cell_type": "markdown",
   "id": "c051f251",
   "metadata": {},
   "source": [
    "# Tipy a triky pro pandas\n",
    "\n",
    "## Cíle - co se naučíme\n",
    "* Číst data z 'nehezkého' Excelu\n",
    "* Indexaci pomocí `loc` a `iloc`\n",
    "* Odvozovat další sloupce pomocí řádkových funkcí\n",
    "* Indexaci boolovskými hodnotami\n",
    "* Vytvářet proměnné z textových proměnných\n",
    "* Parsovat český formát data `01.12.2020`\n",
    "* Vytvářet proměnné z datumu a času\n",
    "* Vytvářet kontingenční tabulky a jiné agegace (včetně nových proměnných)\n",
    "\n",
    "Nakonec budeme pracovat s reálnými daty z oblasti duplicitních skenů.\n",
    "\n",
    "Začněme importem knihovny pandas. Vždy takto, je to idiom."
   ]
  },
  {
   "cell_type": "code",
   "execution_count": 1,
   "id": "43656141",
   "metadata": {},
   "outputs": [],
   "source": [
    "import pandas as pd"
   ]
  },
  {
   "cell_type": "markdown",
   "id": "81dec17b",
   "metadata": {},
   "source": [
    "## Čtení dat z \"nehezkého\" Excelu"
   ]
  },
  {
   "cell_type": "markdown",
   "id": "920c25e1-90da-4157-9483-33530bd284f3",
   "metadata": {},
   "source": [
    "Soubor máme v této cestě:"
   ]
  },
  {
   "cell_type": "code",
   "execution_count": null,
   "id": "3f718971-85d9-4e26-a32d-e612f16c2d82",
   "metadata": {},
   "outputs": [],
   "source": [
    "file_path = \"/data/duplicity/Duplicity_MobSken-2021_03-05.xlsx\""
   ]
  },
  {
   "cell_type": "markdown",
   "id": "a4c0f0ba-70cd-42a4-8207-1509cb90e945",
   "metadata": {},
   "source": [
    "Načteme nový DataFrame pomocí funkce `pd.read_excel`. Nápověda: použijeme cestu k souboru `file_path`. Nahraďte `...` svým kódem."
   ]
  },
  {
   "cell_type": "code",
   "execution_count": 2,
   "id": "8a376de3",
   "metadata": {},
   "outputs": [],
   "source": [
    "df = ..."
   ]
  },
  {
   "cell_type": "markdown",
   "id": "2741a4d8-be77-4ac2-8a29-11370a9a7623",
   "metadata": {},
   "source": [
    "Podívejme se na prvních pár záznamů pomocí metody `head()`."
   ]
  },
  {
   "cell_type": "code",
   "execution_count": 3,
   "id": "517f9fde",
   "metadata": {},
   "outputs": [
    {
     "data": {
      "text/plain": [
       "Ellipsis"
      ]
     },
     "execution_count": 3,
     "metadata": {},
     "output_type": "execute_result"
    }
   ],
   "source": [
    "... "
   ]
  },
  {
   "cell_type": "markdown",
   "id": "ef9ae055-8b59-4d62-9313-917615d69dd2",
   "metadata": {},
   "source": [
    "Někdy je sloupců opravdu hodně a nechceme šoupat zleva doprava. Proto je můžeme otočit metodou `transpose`, kterou můžeme dát za metodu `head`."
   ]
  },
  {
   "cell_type": "code",
   "execution_count": 4,
   "id": "80a63402",
   "metadata": {},
   "outputs": [
    {
     "data": {
      "text/plain": [
       "Ellipsis"
      ]
     },
     "execution_count": 4,
     "metadata": {},
     "output_type": "execute_result"
    }
   ],
   "source": [
    "..."
   ]
  },
  {
   "cell_type": "markdown",
   "id": "e4a7c7a7",
   "metadata": {},
   "source": [
    "## Ze dvou sloupců uděláme jiné dva"
   ]
  },
  {
   "cell_type": "markdown",
   "id": "5ce82173-eb09-4ed8-8345-79f3d4eb4d54",
   "metadata": {},
   "source": [
    "Pozorování: buď je vyplněn pracovník nebo pobočka. \n",
    "\n",
    "Co chceme:\n",
    "* mít jeden identifikátor zdroje dokumentu\n",
    "* vědět, jaký typ to byl (jestli pracovník nebo pobočka)\n",
    "\n",
    "A to ve všech řádcích. Udělejme to nejprve pro první řádek, pak to nějak zobeníme. Bude se nám hodit metoda `iloc[]` a pamatujme, že v Pythonu se počítá od nuly."
   ]
  },
  {
   "cell_type": "code",
   "execution_count": 5,
   "id": "f7b4d1b2-0585-45a0-b817-f7a903426c82",
   "metadata": {},
   "outputs": [
    {
     "data": {
      "text/plain": [
       "Ellipsis"
      ]
     },
     "execution_count": 5,
     "metadata": {},
     "output_type": "execute_result"
    }
   ],
   "source": [
    "row = ...\n",
    "row"
   ]
  },
  {
   "cell_type": "markdown",
   "id": "644ffdd6-a47a-40f6-8f85-924823e3c646",
   "metadata": {},
   "source": [
    "Budeme pro tento řádek chtít identifikátor zroje a zdroj. Oceníme funkci `pd.insa`, tak zjistíme, jestli to bylo vyplněno. Pochopitelně můžeme použít příkaz `if`."
   ]
  },
  {
   "cell_type": "code",
   "execution_count": 6,
   "id": "592d4afc",
   "metadata": {},
   "outputs": [],
   "source": [
    "origin = ...\n",
    "origin_type = ..."
   ]
  },
  {
   "cell_type": "markdown",
   "id": "7749b739-9dd6-458a-becc-ef6017de28a1",
   "metadata": {},
   "source": [
    "Teď z toho udělejme funkci a zkusme, zda funguje."
   ]
  },
  {
   "cell_type": "code",
   "execution_count": null,
   "id": "86d934db-7cb4-47d9-acb8-db0ae8e2d8a1",
   "metadata": {},
   "outputs": [],
   "source": [
    "def get_origin_and_origin_type(row):\n",
    "    return ...\n",
    "\n"
   ]
  },
  {
   "cell_type": "markdown",
   "id": "1f686860-4fa8-4d96-b92b-ab86e4d23cbd",
   "metadata": {},
   "source": [
    "Nyní můžeme tuto funkci aplikovat na včechny řádky `df` pomocí metody `apply`."
   ]
  },
  {
   "cell_type": "code",
   "execution_count": 6,
   "id": "e8a0b06e",
   "metadata": {},
   "outputs": [],
   "source": [
    "df_origin = ...\n"
   ]
  },
  {
   "cell_type": "markdown",
   "id": "37825805-bc30-4adb-bf3a-1aff8d1e5e13",
   "metadata": {},
   "source": [
    "Nyní spojme novou a starou tabulku pomocí `pd.concat` tato funkce předpokládá na vstupu seznam spojovaných data framů."
   ]
  },
  {
   "cell_type": "code",
   "execution_count": 7,
   "id": "d069349e-22ca-4a33-a214-0197641f5b52",
   "metadata": {},
   "outputs": [],
   "source": [
    "df = ..."
   ]
  },
  {
   "cell_type": "code",
   "execution_count": 8,
   "id": "9017c2e6",
   "metadata": {},
   "outputs": [
    {
     "ename": "AttributeError",
     "evalue": "'ellipsis' object has no attribute 'head'",
     "output_type": "error",
     "traceback": [
      "\u001b[0;31m\u001b[0m",
      "\u001b[0;31mAttributeError\u001b[0mTraceback (most recent call last)",
      "\u001b[0;32m<ipython-input-8-11c4744addcc>\u001b[0m in \u001b[0;36m<module>\u001b[0;34m\u001b[0m\n\u001b[0;32m----> 1\u001b[0;31m \u001b[0mdf\u001b[0m\u001b[0;34m.\u001b[0m\u001b[0mhead\u001b[0m\u001b[0;34m(\u001b[0m\u001b[0;34m)\u001b[0m\u001b[0;34m.\u001b[0m\u001b[0mtranspose\u001b[0m\u001b[0;34m(\u001b[0m\u001b[0;34m)\u001b[0m\u001b[0;34m\u001b[0m\u001b[0;34m\u001b[0m\u001b[0m\n\u001b[0m",
      "\u001b[0;31mAttributeError\u001b[0m: 'ellipsis' object has no attribute 'head'"
     ]
    }
   ],
   "source": [
    "df.head().transpose()"
   ]
  },
  {
   "cell_type": "code",
   "execution_count": null,
   "id": "a2bc88a6-dac8-40ec-8fa1-93f3a40912ba",
   "metadata": {},
   "outputs": [],
   "source": []
  },
  {
   "cell_type": "markdown",
   "id": "cb40672e-9a15-4141-9375-ddcca5fb8b8a",
   "metadata": {},
   "source": [
    "Tak se nám podařilo transformovat dva sloupce na jiné, smysluplnější sloupce. Máme tu ještě nějaké další kandidáty?"
   ]
  },
  {
   "cell_type": "code",
   "execution_count": 1,
   "id": "032c4240",
   "metadata": {},
   "outputs": [
    {
     "ename": "NameError",
     "evalue": "name 'df' is not defined",
     "output_type": "error",
     "traceback": [
      "\u001b[0;31m---------------------------------------------------------------------------\u001b[0m",
      "\u001b[0;31mNameError\u001b[0m                                 Traceback (most recent call last)",
      "\u001b[0;32m/tmp/ipykernel_5306/3289350417.py\u001b[0m in \u001b[0;36m<module>\u001b[0;34m\u001b[0m\n\u001b[0;32m----> 1\u001b[0;31m \u001b[0mdf\u001b[0m\u001b[0;34m.\u001b[0m\u001b[0mcolumns\u001b[0m\u001b[0;34m\u001b[0m\u001b[0;34m\u001b[0m\u001b[0m\n\u001b[0m",
      "\u001b[0;31mNameError\u001b[0m: name 'df' is not defined"
     ]
    }
   ],
   "source": [
    "df.columns"
   ]
  },
  {
   "cell_type": "markdown",
   "id": "48651661-6158-4399-9851-709cfdc06290",
   "metadata": {},
   "source": [
    "Nyní ověřme, že čtyři potenciálně zajímavé sloupce jsou vždy unikátní. Hodit se k tomu bude:\n",
    "* indexace vybraných sloupců pomocí `loc`\n",
    "* oveření, že je hodnota vyplněná pomocí `notna`\n",
    "* součet v řádku pomocí `sum`\n",
    "* maximum ze součtů pomocí `max`"
   ]
  },
  {
   "cell_type": "code",
   "execution_count": 9,
   "id": "68433c5e",
   "metadata": {},
   "outputs": [
    {
     "data": {
      "text/plain": [
       "Ellipsis"
      ]
     },
     "execution_count": 9,
     "metadata": {},
     "output_type": "execute_result"
    }
   ],
   "source": [
    "..."
   ]
  },
  {
   "cell_type": "markdown",
   "id": "42237daa",
   "metadata": {},
   "source": [
    "Jaký je závěr? Má smysl tyto tři kombinovat podobně jako pobočku a pracovníka?"
   ]
  },
  {
   "cell_type": "markdown",
   "id": "579adfab",
   "metadata": {},
   "source": [
    "## Proměnné z textových sloupců\n",
    "Jaké máme druhy faktur?\n",
    "\n",
    "Je zajímavé vidět, že máme typ dokumentu \"Faktura za lékařský honorář\". Jaké máme další faktury.\n",
    "\n",
    "Zajímat nás budou řádky, kde *Typ dokumentu* obsahuje `'aktur'` jako pod řetězec."
   ]
  },
  {
   "cell_type": "code",
   "execution_count": 10,
   "id": "f842769d",
   "metadata": {},
   "outputs": [],
   "source": [
    "je_faktura = ...\n"
   ]
  },
  {
   "cell_type": "markdown",
   "id": "417acfff-791a-4dfc-be5e-eb5b9e212c26",
   "metadata": {},
   "source": [
    "Nyní vyberme pouze takové řádky, které jsou fakturou. Nápověda: pomůže nám pouze indexace `df[...]`"
   ]
  },
  {
   "cell_type": "code",
   "execution_count": 11,
   "id": "a0d3ed9e-2630-4e85-bfc4-fd2a6576412a",
   "metadata": {},
   "outputs": [],
   "source": [
    "df_faktury = ..."
   ]
  },
  {
   "cell_type": "markdown",
   "id": "38d695c5-edaf-43b7-b371-a82f7d0d6ccd",
   "metadata": {},
   "source": [
    "Podívejme se kolik unikátních typů faktur máme. Nápověda: metoda `unique` aplikovaná na sloupec."
   ]
  },
  {
   "cell_type": "code",
   "execution_count": 12,
   "id": "1eb334b7",
   "metadata": {},
   "outputs": [
    {
     "data": {
      "text/plain": [
       "Ellipsis"
      ]
     },
     "execution_count": 12,
     "metadata": {},
     "output_type": "execute_result"
    }
   ],
   "source": [
    "..."
   ]
  },
  {
   "cell_type": "markdown",
   "id": "699c40c9-bab8-4e16-8225-414bfd7d660a",
   "metadata": {},
   "source": [
    "A kolik faktur daného typu tedy máme? Nápověda:\n",
    "* metoda `groupby` kombinovaná s metodou `count`\n",
    "* každý řádek má unikátní hodnotu pro `'ID dokumentu'`"
   ]
  },
  {
   "cell_type": "code",
   "execution_count": 13,
   "id": "01f043ec",
   "metadata": {},
   "outputs": [
    {
     "data": {
      "text/plain": [
       "Ellipsis"
      ]
     },
     "execution_count": 13,
     "metadata": {},
     "output_type": "execute_result"
    }
   ],
   "source": [
    "..."
   ]
  },
  {
   "cell_type": "markdown",
   "id": "8a18c338",
   "metadata": {},
   "source": [
    "## Práce s datumem a časem"
   ]
  },
  {
   "cell_type": "markdown",
   "id": "9a39aeda-2696-4303-950e-740a55e98e4d",
   "metadata": {},
   "source": [
    "Naše tabulka má sloupec `'Datum skenování'`. Budeme z něj chtít pro přehledy dostat **číslo týdne**. Hodit se bude funce `pd.datetime` na převedení data, následně metoda `isocalendar` pro potřebnou reprezentaci a konečně také atribut `week`."
   ]
  },
  {
   "cell_type": "code",
   "execution_count": 14,
   "id": "eb1ce01c",
   "metadata": {},
   "outputs": [
    {
     "data": {
      "text/plain": [
       "Ellipsis"
      ]
     },
     "execution_count": 14,
     "metadata": {},
     "output_type": "execute_result"
    }
   ],
   "source": [
    "..."
   ]
  },
  {
   "cell_type": "code",
   "execution_count": 15,
   "id": "fa7c6144",
   "metadata": {},
   "outputs": [
    {
     "data": {
      "text/plain": [
       "Ellipsis"
      ]
     },
     "execution_count": 15,
     "metadata": {},
     "output_type": "execute_result"
    }
   ],
   "source": [
    "..."
   ]
  },
  {
   "cell_type": "code",
   "execution_count": 16,
   "id": "d41197de",
   "metadata": {},
   "outputs": [
    {
     "data": {
      "text/plain": [
       "Ellipsis"
      ]
     },
     "execution_count": 16,
     "metadata": {},
     "output_type": "execute_result"
    }
   ],
   "source": [
    "..."
   ]
  },
  {
   "cell_type": "code",
   "execution_count": 17,
   "id": "77c4a803",
   "metadata": {},
   "outputs": [
    {
     "data": {
      "text/plain": [
       "Ellipsis"
      ]
     },
     "execution_count": 17,
     "metadata": {},
     "output_type": "execute_result"
    }
   ],
   "source": [
    "..."
   ]
  },
  {
   "cell_type": "code",
   "execution_count": 18,
   "id": "ba58c855",
   "metadata": {},
   "outputs": [
    {
     "data": {
      "text/plain": [
       "Ellipsis"
      ]
     },
     "execution_count": 18,
     "metadata": {},
     "output_type": "execute_result"
    }
   ],
   "source": [
    "..."
   ]
  },
  {
   "cell_type": "markdown",
   "id": "7f951ef7-8b49-4d29-9c63-bab99eb044db",
   "metadata": {},
   "source": [
    "Ještě provedem kontrolu, jaké jsou unikátní týdny."
   ]
  },
  {
   "cell_type": "code",
   "execution_count": 19,
   "id": "1cc0ee4d",
   "metadata": {},
   "outputs": [
    {
     "data": {
      "text/plain": [
       "Ellipsis"
      ]
     },
     "execution_count": 19,
     "metadata": {},
     "output_type": "execute_result"
    }
   ],
   "source": [
    "..."
   ]
  },
  {
   "cell_type": "markdown",
   "id": "872d9971",
   "metadata": {},
   "source": [
    "## Kontingenční tabulky (a grafy)"
   ]
  },
  {
   "cell_type": "markdown",
   "id": "74ddd7d8-0a2c-4739-95c6-605eac3b3544",
   "metadata": {},
   "source": [
    "Kontingenční tabulka nám může ukázat, jak se nějaké hodnoty mění v závislosti na jiných. Nás bude hodně zajímat sloupec `'Barva'`, protože ta vyjadřuje, zda byl dokument v pořádku. Budeme chtít vidět, jak se `'Barva'` mění v čase, tedy proti sloupci `'Týden'` a pak i proti sloupci `'Typ zdroje'`.\n",
    "\n",
    "Protože nám to pandas umožní i vizualizovat, udělejme k tomu i importy."
   ]
  },
  {
   "cell_type": "code",
   "execution_count": 20,
   "id": "f79231a8",
   "metadata": {},
   "outputs": [],
   "source": [
    "%matplotlib inline\n",
    "import matplotlib.pyplot as plt\n",
    "plt.rcParams['axes.facecolor'] = 'gray'\n",
    "plt.rcParams['figure.figsize'] = (20,5)"
   ]
  },
  {
   "cell_type": "markdown",
   "id": "496142c2-976b-4a06-a8cc-adf14857a2d4",
   "metadata": {},
   "source": [
    "Kontingenční tabulku vytvoříme pomocí těchto kroků:\n",
    "* medota `groupby` na seznam sloupců, které nás zajímají\n",
    "* agregační metoda, v našem případě to bude metoda `count`\n",
    "* výběr sloupce, podle kterého chceme agregovat, v našem případě to je počet unikátních `'ID dokumentu'`\n",
    "* nejdůležitější trik je ale metoda `unstack`, která z hierarchického indexu udělá sloupce\n",
    "* nakonec ještě nahradíme NaN hodnoty nulou"
   ]
  },
  {
   "cell_type": "code",
   "execution_count": 20,
   "id": "4603211b",
   "metadata": {},
   "outputs": [],
   "source": [
    "def pivot_table(df, columns):\n",
    "    ...\n",
    "\n",
    "pivot_week = pivot_table(df, ['Týden', 'Barva'])\n",
    "\n"
   ]
  },
  {
   "cell_type": "markdown",
   "id": "1bed638e-6137-4e4a-9c2f-b47a620282f1",
   "metadata": {},
   "source": [
    "Nyní si můžeme kontingenční tabulku efektivně zobrazit. Pandas DataFrame má metodu `plot.bar`."
   ]
  },
  {
   "cell_type": "code",
   "execution_count": 21,
   "id": "b73a9c7a",
   "metadata": {},
   "outputs": [
    {
     "data": {
      "text/plain": [
       "Ellipsis"
      ]
     },
     "execution_count": 21,
     "metadata": {},
     "output_type": "execute_result"
    }
   ],
   "source": [
    "..."
   ]
  },
  {
   "cell_type": "markdown",
   "id": "8da70eab-2021-4716-9149-7143c49d820b",
   "metadata": {},
   "source": [
    "Může nás také zajímat poměr modrého a zeleného sloupce kontingenční tabulky. Ideálně zase jako graf.\n"
   ]
  },
  {
   "cell_type": "code",
   "execution_count": 22,
   "id": "3475121f",
   "metadata": {},
   "outputs": [
    {
     "data": {
      "text/plain": [
       "Ellipsis"
      ]
     },
     "execution_count": 22,
     "metadata": {},
     "output_type": "execute_result"
    }
   ],
   "source": [
    "..."
   ]
  },
  {
   "cell_type": "markdown",
   "id": "343296ff-2bd9-45b8-8c6e-917ff2fd155a",
   "metadata": {},
   "source": [
    "Nyní udělejte kontingenční tabulku pro `'Typ zdroje'`."
   ]
  },
  {
   "cell_type": "code",
   "execution_count": 24,
   "id": "09ee0c61",
   "metadata": {},
   "outputs": [
    {
     "data": {
      "text/plain": [
       "Ellipsis"
      ]
     },
     "execution_count": 24,
     "metadata": {},
     "output_type": "execute_result"
    }
   ],
   "source": [
    "pivot_typ_zdroje = ...\n",
    "pivot_typ_zdroje"
   ]
  },
  {
   "cell_type": "markdown",
   "id": "2755c38b-19c6-4712-a2b0-36a62573b390",
   "metadata": {},
   "source": [
    "A také graf."
   ]
  },
  {
   "cell_type": "code",
   "execution_count": 26,
   "id": "63478f6f",
   "metadata": {},
   "outputs": [
    {
     "data": {
      "text/plain": [
       "Ellipsis"
      ]
     },
     "execution_count": 26,
     "metadata": {},
     "output_type": "execute_result"
    }
   ],
   "source": [
    "..."
   ]
  },
  {
   "cell_type": "markdown",
   "id": "dd050176-634d-4160-a1a6-f329fbedc935",
   "metadata": {},
   "source": [
    "A poměr modrého a zeleného."
   ]
  },
  {
   "cell_type": "code",
   "execution_count": null,
   "id": "1f797155",
   "metadata": {},
   "outputs": [],
   "source": []
  },
  {
   "cell_type": "markdown",
   "id": "e9273344",
   "metadata": {},
   "source": [
    "# #############"
   ]
  }
 ],
 "metadata": {
  "kernelspec": {
   "display_name": "Python 3 (ipykernel)",
   "language": "python",
   "name": "python3"
  },
  "language_info": {
   "codemirror_mode": {
    "name": "ipython",
    "version": 3
   },
   "file_extension": ".py",
   "mimetype": "text/x-python",
   "name": "python",
   "nbconvert_exporter": "python",
   "pygments_lexer": "ipython3",
   "version": "3.7.3"
  }
 },
 "nbformat": 4,
 "nbformat_minor": 5
}
