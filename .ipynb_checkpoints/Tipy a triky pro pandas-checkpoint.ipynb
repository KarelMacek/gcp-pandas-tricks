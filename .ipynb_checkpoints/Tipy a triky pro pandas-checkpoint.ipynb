{
 "cells": [
  {
   "cell_type": "markdown",
   "id": "c051f251",
   "metadata": {},
   "source": [
    "# Tipy a triky pro pandas\n",
    "\n",
    "## Cíle - co se naučíme\n",
    "* Číst data z 'nehezkého' Excelu\n",
    "* Indexaci pomocí `loc` a `iloc`\n",
    "* Odvozovat další sloupce pomocí řádkových funkcí\n",
    "* Indexaci boolovskými hodnotami\n",
    "* Vytvářet proměnné z textových proměnných\n",
    "* Parsovat český formát data `01.12.2020`\n",
    "* Vytvářet proměnné z datumu a času\n",
    "* Vytvářet kontingenční tabulky a jiné agegace (včetně nových proměnných)\n",
    "\n",
    "Nakonec budeme pracovat s reálnými daty z oblasti duplicitních skenů.\n",
    "\n",
    "Začněme importem knihovny pandas. Vždy takto, je to idiom."
   ]
  },
  {
   "cell_type": "code",
   "execution_count": 1,
   "id": "43656141",
   "metadata": {},
   "outputs": [],
   "source": [
    "import pandas as pd"
   ]
  },
  {
   "cell_type": "markdown",
   "id": "81dec17b",
   "metadata": {},
   "source": [
    "## Čtení dat z \"nehezkého\" Excelu"
   ]
  },
  {
   "cell_type": "code",
   "execution_count": 2,
   "id": "8a376de3",
   "metadata": {},
   "outputs": [],
   "source": [
    "df = pd.read_excel(\"C:\\data\\duplicity\\Duplicity_MobSken-2021_03-05.xlsx\", sheet_name=\"Duplicity-MobSken\", skiprows=4)"
   ]
  },
  {
   "cell_type": "code",
   "execution_count": 3,
   "id": "517f9fde",
   "metadata": {},
   "outputs": [
    {
     "data": {
      "text/html": [
       "<div>\n",
       "<style scoped>\n",
       "    .dataframe tbody tr th:only-of-type {\n",
       "        vertical-align: middle;\n",
       "    }\n",
       "\n",
       "    .dataframe tbody tr th {\n",
       "        vertical-align: top;\n",
       "    }\n",
       "\n",
       "    .dataframe thead th {\n",
       "        text-align: right;\n",
       "    }\n",
       "</style>\n",
       "<table border=\"1\" class=\"dataframe\">\n",
       "  <thead>\n",
       "    <tr style=\"text-align: right;\">\n",
       "      <th></th>\n",
       "      <th>Fronta</th>\n",
       "      <th>Dávka</th>\n",
       "      <th>TC kód</th>\n",
       "      <th>TO kód</th>\n",
       "      <th>Typ dokumentu</th>\n",
       "      <th>Pojistná smlouva</th>\n",
       "      <th>Pojistná událost</th>\n",
       "      <th>Číslo návrhu</th>\n",
       "      <th>Obchodní případ</th>\n",
       "      <th>ID dokumentu</th>\n",
       "      <th>Datum skenování</th>\n",
       "      <th>Pobočka</th>\n",
       "      <th>Pracovník</th>\n",
       "      <th>ID DA</th>\n",
       "      <th>Barva</th>\n",
       "      <th>Komentář</th>\n",
       "    </tr>\n",
       "  </thead>\n",
       "  <tbody>\n",
       "    <tr>\n",
       "      <th>0</th>\n",
       "      <td>GCP-ZP-TAS</td>\n",
       "      <td>MBM519260</td>\n",
       "      <td>NaN</td>\n",
       "      <td>NaN</td>\n",
       "      <td>Faktura za lékařský honorář</td>\n",
       "      <td>3177706818</td>\n",
       "      <td>NaN</td>\n",
       "      <td>NaN</td>\n",
       "      <td>NaN</td>\n",
       "      <td>47351106</td>\n",
       "      <td>01.03.2021</td>\n",
       "      <td>NaN</td>\n",
       "      <td>rbasova</td>\n",
       "      <td>755554731</td>\n",
       "      <td>Green</td>\n",
       "      <td>NaN</td>\n",
       "    </tr>\n",
       "    <tr>\n",
       "      <th>1</th>\n",
       "      <td>GCP-NZ-TAS</td>\n",
       "      <td>MBM518665</td>\n",
       "      <td>TC77007100029</td>\n",
       "      <td>O1040056629629A</td>\n",
       "      <td>NaN</td>\n",
       "      <td>NaN</td>\n",
       "      <td>NaN</td>\n",
       "      <td>NaN</td>\n",
       "      <td>NaN</td>\n",
       "      <td>47343449</td>\n",
       "      <td>01.03.2021</td>\n",
       "      <td>NaN</td>\n",
       "      <td>marbartos</td>\n",
       "      <td>755279603</td>\n",
       "      <td>Blue</td>\n",
       "      <td>NaN</td>\n",
       "    </tr>\n",
       "    <tr>\n",
       "      <th>2</th>\n",
       "      <td>GCP-NZ-TAS</td>\n",
       "      <td>MBM519319</td>\n",
       "      <td>TC4300300101A</td>\n",
       "      <td>NaN</td>\n",
       "      <td>Žádost o storno-papír</td>\n",
       "      <td>2577839312</td>\n",
       "      <td>NaN</td>\n",
       "      <td>NaN</td>\n",
       "      <td>NaN</td>\n",
       "      <td>47351511</td>\n",
       "      <td>01.03.2021</td>\n",
       "      <td>NaN</td>\n",
       "      <td>olangaskova</td>\n",
       "      <td>755565836</td>\n",
       "      <td>Blue</td>\n",
       "      <td>NaN</td>\n",
       "    </tr>\n",
       "    <tr>\n",
       "      <th>3</th>\n",
       "      <td>GCP-NZ-TAS</td>\n",
       "      <td>MBM518545</td>\n",
       "      <td>TC4301800001A</td>\n",
       "      <td>NaN</td>\n",
       "      <td>Žádost o storno-papír</td>\n",
       "      <td>4087213766</td>\n",
       "      <td>NaN</td>\n",
       "      <td>NaN</td>\n",
       "      <td>NaN</td>\n",
       "      <td>47342288</td>\n",
       "      <td>01.03.2021</td>\n",
       "      <td>ČPD,Olomouc,Nábřeží přemyslovců 867/8,Hafnerov...</td>\n",
       "      <td>NaN</td>\n",
       "      <td>755252958</td>\n",
       "      <td>Blue</td>\n",
       "      <td>NaN</td>\n",
       "    </tr>\n",
       "    <tr>\n",
       "      <th>4</th>\n",
       "      <td>GCP-ZP-TAS</td>\n",
       "      <td>MBM518742</td>\n",
       "      <td>NaN</td>\n",
       "      <td>NaN</td>\n",
       "      <td>Interní zpráva</td>\n",
       "      <td>3178373814</td>\n",
       "      <td>NaN</td>\n",
       "      <td>NaN</td>\n",
       "      <td>NaN</td>\n",
       "      <td>47345270</td>\n",
       "      <td>01.03.2021</td>\n",
       "      <td>NaN</td>\n",
       "      <td>dlupova</td>\n",
       "      <td>755279913</td>\n",
       "      <td>Green</td>\n",
       "      <td>NaN</td>\n",
       "    </tr>\n",
       "  </tbody>\n",
       "</table>\n",
       "</div>"
      ],
      "text/plain": [
       "       Fronta      Dávka         TC kód           TO kód  \\\n",
       "0  GCP-ZP-TAS  MBM519260            NaN              NaN   \n",
       "1  GCP-NZ-TAS  MBM518665  TC77007100029  O1040056629629A   \n",
       "2  GCP-NZ-TAS  MBM519319  TC4300300101A              NaN   \n",
       "3  GCP-NZ-TAS  MBM518545  TC4301800001A              NaN   \n",
       "4  GCP-ZP-TAS  MBM518742            NaN              NaN   \n",
       "\n",
       "                 Typ dokumentu Pojistná smlouva  Pojistná událost  \\\n",
       "0  Faktura za lékařský honorář       3177706818               NaN   \n",
       "1                          NaN              NaN               NaN   \n",
       "2        Žádost o storno-papír       2577839312               NaN   \n",
       "3        Žádost o storno-papír       4087213766               NaN   \n",
       "4               Interní zpráva       3178373814               NaN   \n",
       "\n",
       "  Číslo návrhu Obchodní případ  ID dokumentu Datum skenování  \\\n",
       "0          NaN             NaN      47351106      01.03.2021   \n",
       "1          NaN             NaN      47343449      01.03.2021   \n",
       "2          NaN             NaN      47351511      01.03.2021   \n",
       "3          NaN             NaN      47342288      01.03.2021   \n",
       "4          NaN             NaN      47345270      01.03.2021   \n",
       "\n",
       "                                             Pobočka    Pracovník      ID DA  \\\n",
       "0                                                NaN      rbasova  755554731   \n",
       "1                                                NaN    marbartos  755279603   \n",
       "2                                                NaN  olangaskova  755565836   \n",
       "3  ČPD,Olomouc,Nábřeží přemyslovců 867/8,Hafnerov...          NaN  755252958   \n",
       "4                                                NaN      dlupova  755279913   \n",
       "\n",
       "   Barva Komentář  \n",
       "0  Green      NaN  \n",
       "1   Blue      NaN  \n",
       "2   Blue      NaN  \n",
       "3   Blue      NaN  \n",
       "4  Green      NaN  "
      ]
     },
     "execution_count": 3,
     "metadata": {},
     "output_type": "execute_result"
    }
   ],
   "source": [
    "df.head()"
   ]
  },
  {
   "cell_type": "code",
   "execution_count": 4,
   "id": "80a63402",
   "metadata": {},
   "outputs": [
    {
     "data": {
      "text/html": [
       "<div>\n",
       "<style scoped>\n",
       "    .dataframe tbody tr th:only-of-type {\n",
       "        vertical-align: middle;\n",
       "    }\n",
       "\n",
       "    .dataframe tbody tr th {\n",
       "        vertical-align: top;\n",
       "    }\n",
       "\n",
       "    .dataframe thead th {\n",
       "        text-align: right;\n",
       "    }\n",
       "</style>\n",
       "<table border=\"1\" class=\"dataframe\">\n",
       "  <thead>\n",
       "    <tr style=\"text-align: right;\">\n",
       "      <th></th>\n",
       "      <th>0</th>\n",
       "      <th>1</th>\n",
       "      <th>2</th>\n",
       "      <th>3</th>\n",
       "      <th>4</th>\n",
       "    </tr>\n",
       "  </thead>\n",
       "  <tbody>\n",
       "    <tr>\n",
       "      <th>Fronta</th>\n",
       "      <td>GCP-ZP-TAS</td>\n",
       "      <td>GCP-NZ-TAS</td>\n",
       "      <td>GCP-NZ-TAS</td>\n",
       "      <td>GCP-NZ-TAS</td>\n",
       "      <td>GCP-ZP-TAS</td>\n",
       "    </tr>\n",
       "    <tr>\n",
       "      <th>Dávka</th>\n",
       "      <td>MBM519260</td>\n",
       "      <td>MBM518665</td>\n",
       "      <td>MBM519319</td>\n",
       "      <td>MBM518545</td>\n",
       "      <td>MBM518742</td>\n",
       "    </tr>\n",
       "    <tr>\n",
       "      <th>TC kód</th>\n",
       "      <td>NaN</td>\n",
       "      <td>TC77007100029</td>\n",
       "      <td>TC4300300101A</td>\n",
       "      <td>TC4301800001A</td>\n",
       "      <td>NaN</td>\n",
       "    </tr>\n",
       "    <tr>\n",
       "      <th>TO kód</th>\n",
       "      <td>NaN</td>\n",
       "      <td>O1040056629629A</td>\n",
       "      <td>NaN</td>\n",
       "      <td>NaN</td>\n",
       "      <td>NaN</td>\n",
       "    </tr>\n",
       "    <tr>\n",
       "      <th>Typ dokumentu</th>\n",
       "      <td>Faktura za lékařský honorář</td>\n",
       "      <td>NaN</td>\n",
       "      <td>Žádost o storno-papír</td>\n",
       "      <td>Žádost o storno-papír</td>\n",
       "      <td>Interní zpráva</td>\n",
       "    </tr>\n",
       "    <tr>\n",
       "      <th>Pojistná smlouva</th>\n",
       "      <td>3177706818</td>\n",
       "      <td>NaN</td>\n",
       "      <td>2577839312</td>\n",
       "      <td>4087213766</td>\n",
       "      <td>3178373814</td>\n",
       "    </tr>\n",
       "    <tr>\n",
       "      <th>Pojistná událost</th>\n",
       "      <td>NaN</td>\n",
       "      <td>NaN</td>\n",
       "      <td>NaN</td>\n",
       "      <td>NaN</td>\n",
       "      <td>NaN</td>\n",
       "    </tr>\n",
       "    <tr>\n",
       "      <th>Číslo návrhu</th>\n",
       "      <td>NaN</td>\n",
       "      <td>NaN</td>\n",
       "      <td>NaN</td>\n",
       "      <td>NaN</td>\n",
       "      <td>NaN</td>\n",
       "    </tr>\n",
       "    <tr>\n",
       "      <th>Obchodní případ</th>\n",
       "      <td>NaN</td>\n",
       "      <td>NaN</td>\n",
       "      <td>NaN</td>\n",
       "      <td>NaN</td>\n",
       "      <td>NaN</td>\n",
       "    </tr>\n",
       "    <tr>\n",
       "      <th>ID dokumentu</th>\n",
       "      <td>47351106</td>\n",
       "      <td>47343449</td>\n",
       "      <td>47351511</td>\n",
       "      <td>47342288</td>\n",
       "      <td>47345270</td>\n",
       "    </tr>\n",
       "    <tr>\n",
       "      <th>Datum skenování</th>\n",
       "      <td>01.03.2021</td>\n",
       "      <td>01.03.2021</td>\n",
       "      <td>01.03.2021</td>\n",
       "      <td>01.03.2021</td>\n",
       "      <td>01.03.2021</td>\n",
       "    </tr>\n",
       "    <tr>\n",
       "      <th>Pobočka</th>\n",
       "      <td>NaN</td>\n",
       "      <td>NaN</td>\n",
       "      <td>NaN</td>\n",
       "      <td>ČPD,Olomouc,Nábřeží přemyslovců 867/8,Hafnerov...</td>\n",
       "      <td>NaN</td>\n",
       "    </tr>\n",
       "    <tr>\n",
       "      <th>Pracovník</th>\n",
       "      <td>rbasova</td>\n",
       "      <td>marbartos</td>\n",
       "      <td>olangaskova</td>\n",
       "      <td>NaN</td>\n",
       "      <td>dlupova</td>\n",
       "    </tr>\n",
       "    <tr>\n",
       "      <th>ID DA</th>\n",
       "      <td>755554731</td>\n",
       "      <td>755279603</td>\n",
       "      <td>755565836</td>\n",
       "      <td>755252958</td>\n",
       "      <td>755279913</td>\n",
       "    </tr>\n",
       "    <tr>\n",
       "      <th>Barva</th>\n",
       "      <td>Green</td>\n",
       "      <td>Blue</td>\n",
       "      <td>Blue</td>\n",
       "      <td>Blue</td>\n",
       "      <td>Green</td>\n",
       "    </tr>\n",
       "    <tr>\n",
       "      <th>Komentář</th>\n",
       "      <td>NaN</td>\n",
       "      <td>NaN</td>\n",
       "      <td>NaN</td>\n",
       "      <td>NaN</td>\n",
       "      <td>NaN</td>\n",
       "    </tr>\n",
       "  </tbody>\n",
       "</table>\n",
       "</div>"
      ],
      "text/plain": [
       "                                            0                1  \\\n",
       "Fronta                             GCP-ZP-TAS       GCP-NZ-TAS   \n",
       "Dávka                               MBM519260        MBM518665   \n",
       "TC kód                                    NaN    TC77007100029   \n",
       "TO kód                                    NaN  O1040056629629A   \n",
       "Typ dokumentu     Faktura za lékařský honorář              NaN   \n",
       "Pojistná smlouva                   3177706818              NaN   \n",
       "Pojistná událost                          NaN              NaN   \n",
       "Číslo návrhu                              NaN              NaN   \n",
       "Obchodní případ                           NaN              NaN   \n",
       "ID dokumentu                         47351106         47343449   \n",
       "Datum skenování                    01.03.2021       01.03.2021   \n",
       "Pobočka                                   NaN              NaN   \n",
       "Pracovník                             rbasova        marbartos   \n",
       "ID DA                               755554731        755279603   \n",
       "Barva                                   Green             Blue   \n",
       "Komentář                                  NaN              NaN   \n",
       "\n",
       "                                      2  \\\n",
       "Fronta                       GCP-NZ-TAS   \n",
       "Dávka                         MBM519319   \n",
       "TC kód                    TC4300300101A   \n",
       "TO kód                              NaN   \n",
       "Typ dokumentu     Žádost o storno-papír   \n",
       "Pojistná smlouva             2577839312   \n",
       "Pojistná událost                    NaN   \n",
       "Číslo návrhu                        NaN   \n",
       "Obchodní případ                     NaN   \n",
       "ID dokumentu                   47351511   \n",
       "Datum skenování              01.03.2021   \n",
       "Pobočka                             NaN   \n",
       "Pracovník                   olangaskova   \n",
       "ID DA                         755565836   \n",
       "Barva                              Blue   \n",
       "Komentář                            NaN   \n",
       "\n",
       "                                                                  3  \\\n",
       "Fronta                                                   GCP-NZ-TAS   \n",
       "Dávka                                                     MBM518545   \n",
       "TC kód                                                TC4301800001A   \n",
       "TO kód                                                          NaN   \n",
       "Typ dokumentu                                 Žádost o storno-papír   \n",
       "Pojistná smlouva                                         4087213766   \n",
       "Pojistná událost                                                NaN   \n",
       "Číslo návrhu                                                    NaN   \n",
       "Obchodní případ                                                 NaN   \n",
       "ID dokumentu                                               47342288   \n",
       "Datum skenování                                          01.03.2021   \n",
       "Pobočka           ČPD,Olomouc,Nábřeží přemyslovců 867/8,Hafnerov...   \n",
       "Pracovník                                                       NaN   \n",
       "ID DA                                                     755252958   \n",
       "Barva                                                          Blue   \n",
       "Komentář                                                        NaN   \n",
       "\n",
       "                               4  \n",
       "Fronta                GCP-ZP-TAS  \n",
       "Dávka                  MBM518742  \n",
       "TC kód                       NaN  \n",
       "TO kód                       NaN  \n",
       "Typ dokumentu     Interní zpráva  \n",
       "Pojistná smlouva      3178373814  \n",
       "Pojistná událost             NaN  \n",
       "Číslo návrhu                 NaN  \n",
       "Obchodní případ              NaN  \n",
       "ID dokumentu            47345270  \n",
       "Datum skenování       01.03.2021  \n",
       "Pobočka                      NaN  \n",
       "Pracovník                dlupova  \n",
       "ID DA                  755279913  \n",
       "Barva                      Green  \n",
       "Komentář                     NaN  "
      ]
     },
     "execution_count": 4,
     "metadata": {},
     "output_type": "execute_result"
    }
   ],
   "source": [
    "df.head(5).transpose()"
   ]
  },
  {
   "cell_type": "markdown",
   "id": "e4a7c7a7",
   "metadata": {},
   "source": [
    "## Ze dvou sloupců uděláme jiné dva"
   ]
  },
  {
   "cell_type": "code",
   "execution_count": 5,
   "id": "592d4afc",
   "metadata": {},
   "outputs": [],
   "source": [
    "def get_origin_and_origin_type(row):\n",
    "    if pd.isna(row['Pracovník']):\n",
    "        origin = 'Pobočka'\n",
    "    else:\n",
    "        origin = 'Pracovník'\n",
    "    return pd.Series({'Typ zdroje': origin, \n",
    "                      'Zdroj': row[origin]})           "
   ]
  },
  {
   "cell_type": "code",
   "execution_count": 6,
   "id": "e8a0b06e",
   "metadata": {},
   "outputs": [],
   "source": [
    "df_origin = df.apply(get_origin_and_origin_type,axis=1)\n",
    "df = pd.concat([df, df_origin], axis=1)"
   ]
  },
  {
   "cell_type": "code",
   "execution_count": 7,
   "id": "9017c2e6",
   "metadata": {},
   "outputs": [
    {
     "data": {
      "text/html": [
       "<div>\n",
       "<style scoped>\n",
       "    .dataframe tbody tr th:only-of-type {\n",
       "        vertical-align: middle;\n",
       "    }\n",
       "\n",
       "    .dataframe tbody tr th {\n",
       "        vertical-align: top;\n",
       "    }\n",
       "\n",
       "    .dataframe thead th {\n",
       "        text-align: right;\n",
       "    }\n",
       "</style>\n",
       "<table border=\"1\" class=\"dataframe\">\n",
       "  <thead>\n",
       "    <tr style=\"text-align: right;\">\n",
       "      <th></th>\n",
       "      <th>0</th>\n",
       "      <th>1</th>\n",
       "      <th>2</th>\n",
       "      <th>3</th>\n",
       "      <th>4</th>\n",
       "    </tr>\n",
       "  </thead>\n",
       "  <tbody>\n",
       "    <tr>\n",
       "      <th>Fronta</th>\n",
       "      <td>GCP-ZP-TAS</td>\n",
       "      <td>GCP-NZ-TAS</td>\n",
       "      <td>GCP-NZ-TAS</td>\n",
       "      <td>GCP-NZ-TAS</td>\n",
       "      <td>GCP-ZP-TAS</td>\n",
       "    </tr>\n",
       "    <tr>\n",
       "      <th>Dávka</th>\n",
       "      <td>MBM519260</td>\n",
       "      <td>MBM518665</td>\n",
       "      <td>MBM519319</td>\n",
       "      <td>MBM518545</td>\n",
       "      <td>MBM518742</td>\n",
       "    </tr>\n",
       "    <tr>\n",
       "      <th>TC kód</th>\n",
       "      <td>NaN</td>\n",
       "      <td>TC77007100029</td>\n",
       "      <td>TC4300300101A</td>\n",
       "      <td>TC4301800001A</td>\n",
       "      <td>NaN</td>\n",
       "    </tr>\n",
       "    <tr>\n",
       "      <th>TO kód</th>\n",
       "      <td>NaN</td>\n",
       "      <td>O1040056629629A</td>\n",
       "      <td>NaN</td>\n",
       "      <td>NaN</td>\n",
       "      <td>NaN</td>\n",
       "    </tr>\n",
       "    <tr>\n",
       "      <th>Typ dokumentu</th>\n",
       "      <td>Faktura za lékařský honorář</td>\n",
       "      <td>NaN</td>\n",
       "      <td>Žádost o storno-papír</td>\n",
       "      <td>Žádost o storno-papír</td>\n",
       "      <td>Interní zpráva</td>\n",
       "    </tr>\n",
       "    <tr>\n",
       "      <th>Pojistná smlouva</th>\n",
       "      <td>3177706818</td>\n",
       "      <td>NaN</td>\n",
       "      <td>2577839312</td>\n",
       "      <td>4087213766</td>\n",
       "      <td>3178373814</td>\n",
       "    </tr>\n",
       "    <tr>\n",
       "      <th>Pojistná událost</th>\n",
       "      <td>NaN</td>\n",
       "      <td>NaN</td>\n",
       "      <td>NaN</td>\n",
       "      <td>NaN</td>\n",
       "      <td>NaN</td>\n",
       "    </tr>\n",
       "    <tr>\n",
       "      <th>Číslo návrhu</th>\n",
       "      <td>NaN</td>\n",
       "      <td>NaN</td>\n",
       "      <td>NaN</td>\n",
       "      <td>NaN</td>\n",
       "      <td>NaN</td>\n",
       "    </tr>\n",
       "    <tr>\n",
       "      <th>Obchodní případ</th>\n",
       "      <td>NaN</td>\n",
       "      <td>NaN</td>\n",
       "      <td>NaN</td>\n",
       "      <td>NaN</td>\n",
       "      <td>NaN</td>\n",
       "    </tr>\n",
       "    <tr>\n",
       "      <th>ID dokumentu</th>\n",
       "      <td>47351106</td>\n",
       "      <td>47343449</td>\n",
       "      <td>47351511</td>\n",
       "      <td>47342288</td>\n",
       "      <td>47345270</td>\n",
       "    </tr>\n",
       "    <tr>\n",
       "      <th>Datum skenování</th>\n",
       "      <td>01.03.2021</td>\n",
       "      <td>01.03.2021</td>\n",
       "      <td>01.03.2021</td>\n",
       "      <td>01.03.2021</td>\n",
       "      <td>01.03.2021</td>\n",
       "    </tr>\n",
       "    <tr>\n",
       "      <th>Pobočka</th>\n",
       "      <td>NaN</td>\n",
       "      <td>NaN</td>\n",
       "      <td>NaN</td>\n",
       "      <td>ČPD,Olomouc,Nábřeží přemyslovců 867/8,Hafnerov...</td>\n",
       "      <td>NaN</td>\n",
       "    </tr>\n",
       "    <tr>\n",
       "      <th>Pracovník</th>\n",
       "      <td>rbasova</td>\n",
       "      <td>marbartos</td>\n",
       "      <td>olangaskova</td>\n",
       "      <td>NaN</td>\n",
       "      <td>dlupova</td>\n",
       "    </tr>\n",
       "    <tr>\n",
       "      <th>ID DA</th>\n",
       "      <td>755554731</td>\n",
       "      <td>755279603</td>\n",
       "      <td>755565836</td>\n",
       "      <td>755252958</td>\n",
       "      <td>755279913</td>\n",
       "    </tr>\n",
       "    <tr>\n",
       "      <th>Barva</th>\n",
       "      <td>Green</td>\n",
       "      <td>Blue</td>\n",
       "      <td>Blue</td>\n",
       "      <td>Blue</td>\n",
       "      <td>Green</td>\n",
       "    </tr>\n",
       "    <tr>\n",
       "      <th>Komentář</th>\n",
       "      <td>NaN</td>\n",
       "      <td>NaN</td>\n",
       "      <td>NaN</td>\n",
       "      <td>NaN</td>\n",
       "      <td>NaN</td>\n",
       "    </tr>\n",
       "    <tr>\n",
       "      <th>Typ zdroje</th>\n",
       "      <td>Pracovník</td>\n",
       "      <td>Pracovník</td>\n",
       "      <td>Pracovník</td>\n",
       "      <td>Pobočka</td>\n",
       "      <td>Pracovník</td>\n",
       "    </tr>\n",
       "    <tr>\n",
       "      <th>Zdroj</th>\n",
       "      <td>rbasova</td>\n",
       "      <td>marbartos</td>\n",
       "      <td>olangaskova</td>\n",
       "      <td>ČPD,Olomouc,Nábřeží přemyslovců 867/8,Hafnerov...</td>\n",
       "      <td>dlupova</td>\n",
       "    </tr>\n",
       "  </tbody>\n",
       "</table>\n",
       "</div>"
      ],
      "text/plain": [
       "                                            0                1  \\\n",
       "Fronta                             GCP-ZP-TAS       GCP-NZ-TAS   \n",
       "Dávka                               MBM519260        MBM518665   \n",
       "TC kód                                    NaN    TC77007100029   \n",
       "TO kód                                    NaN  O1040056629629A   \n",
       "Typ dokumentu     Faktura za lékařský honorář              NaN   \n",
       "Pojistná smlouva                   3177706818              NaN   \n",
       "Pojistná událost                          NaN              NaN   \n",
       "Číslo návrhu                              NaN              NaN   \n",
       "Obchodní případ                           NaN              NaN   \n",
       "ID dokumentu                         47351106         47343449   \n",
       "Datum skenování                    01.03.2021       01.03.2021   \n",
       "Pobočka                                   NaN              NaN   \n",
       "Pracovník                             rbasova        marbartos   \n",
       "ID DA                               755554731        755279603   \n",
       "Barva                                   Green             Blue   \n",
       "Komentář                                  NaN              NaN   \n",
       "Typ zdroje                          Pracovník        Pracovník   \n",
       "Zdroj                                 rbasova        marbartos   \n",
       "\n",
       "                                      2  \\\n",
       "Fronta                       GCP-NZ-TAS   \n",
       "Dávka                         MBM519319   \n",
       "TC kód                    TC4300300101A   \n",
       "TO kód                              NaN   \n",
       "Typ dokumentu     Žádost o storno-papír   \n",
       "Pojistná smlouva             2577839312   \n",
       "Pojistná událost                    NaN   \n",
       "Číslo návrhu                        NaN   \n",
       "Obchodní případ                     NaN   \n",
       "ID dokumentu                   47351511   \n",
       "Datum skenování              01.03.2021   \n",
       "Pobočka                             NaN   \n",
       "Pracovník                   olangaskova   \n",
       "ID DA                         755565836   \n",
       "Barva                              Blue   \n",
       "Komentář                            NaN   \n",
       "Typ zdroje                    Pracovník   \n",
       "Zdroj                       olangaskova   \n",
       "\n",
       "                                                                  3  \\\n",
       "Fronta                                                   GCP-NZ-TAS   \n",
       "Dávka                                                     MBM518545   \n",
       "TC kód                                                TC4301800001A   \n",
       "TO kód                                                          NaN   \n",
       "Typ dokumentu                                 Žádost o storno-papír   \n",
       "Pojistná smlouva                                         4087213766   \n",
       "Pojistná událost                                                NaN   \n",
       "Číslo návrhu                                                    NaN   \n",
       "Obchodní případ                                                 NaN   \n",
       "ID dokumentu                                               47342288   \n",
       "Datum skenování                                          01.03.2021   \n",
       "Pobočka           ČPD,Olomouc,Nábřeží přemyslovců 867/8,Hafnerov...   \n",
       "Pracovník                                                       NaN   \n",
       "ID DA                                                     755252958   \n",
       "Barva                                                          Blue   \n",
       "Komentář                                                        NaN   \n",
       "Typ zdroje                                                  Pobočka   \n",
       "Zdroj             ČPD,Olomouc,Nábřeží přemyslovců 867/8,Hafnerov...   \n",
       "\n",
       "                               4  \n",
       "Fronta                GCP-ZP-TAS  \n",
       "Dávka                  MBM518742  \n",
       "TC kód                       NaN  \n",
       "TO kód                       NaN  \n",
       "Typ dokumentu     Interní zpráva  \n",
       "Pojistná smlouva      3178373814  \n",
       "Pojistná událost             NaN  \n",
       "Číslo návrhu                 NaN  \n",
       "Obchodní případ              NaN  \n",
       "ID dokumentu            47345270  \n",
       "Datum skenování       01.03.2021  \n",
       "Pobočka                      NaN  \n",
       "Pracovník                dlupova  \n",
       "ID DA                  755279913  \n",
       "Barva                      Green  \n",
       "Komentář                     NaN  \n",
       "Typ zdroje             Pracovník  \n",
       "Zdroj                    dlupova  "
      ]
     },
     "execution_count": 7,
     "metadata": {},
     "output_type": "execute_result"
    }
   ],
   "source": [
    "df.head().transpose()"
   ]
  },
  {
   "cell_type": "code",
   "execution_count": 8,
   "id": "032c4240",
   "metadata": {},
   "outputs": [
    {
     "data": {
      "text/plain": [
       "Index(['Fronta', 'Dávka', 'TC kód', 'TO kód', 'Typ dokumentu',\n",
       "       'Pojistná smlouva', 'Pojistná událost', 'Číslo návrhu',\n",
       "       'Obchodní případ', 'ID dokumentu', 'Datum skenování', 'Pobočka',\n",
       "       'Pracovník', 'ID DA', 'Barva', 'Komentář', 'Typ zdroje', 'Zdroj'],\n",
       "      dtype='object')"
      ]
     },
     "execution_count": 8,
     "metadata": {},
     "output_type": "execute_result"
    }
   ],
   "source": [
    "df.columns"
   ]
  },
  {
   "cell_type": "code",
   "execution_count": 9,
   "id": "68433c5e",
   "metadata": {},
   "outputs": [
    {
     "data": {
      "text/plain": [
       "3"
      ]
     },
     "execution_count": 9,
     "metadata": {},
     "output_type": "execute_result"
    }
   ],
   "source": [
    "df.loc[:,['Pojistná smlouva', 'Pojistná událost', 'Číslo návrhu',\n",
    "       'Obchodní případ',]].notna().sum(axis=1).max()"
   ]
  },
  {
   "cell_type": "markdown",
   "id": "42237daa",
   "metadata": {},
   "source": [
    "Závěr: Tyto tři objekty se někdy vyskytují dohromady. Nemá cenu s nimi zacházet podobně jako se sloupci `Pracovník` a `Pobočka`."
   ]
  },
  {
   "cell_type": "markdown",
   "id": "579adfab",
   "metadata": {},
   "source": [
    "## Proměnné z textových sloupců\n",
    "Jaké máme druhy faktur?\n",
    "\n"
   ]
  },
  {
   "cell_type": "code",
   "execution_count": 10,
   "id": "f842769d",
   "metadata": {},
   "outputs": [
    {
     "data": {
      "text/html": [
       "<div>\n",
       "<style scoped>\n",
       "    .dataframe tbody tr th:only-of-type {\n",
       "        vertical-align: middle;\n",
       "    }\n",
       "\n",
       "    .dataframe tbody tr th {\n",
       "        vertical-align: top;\n",
       "    }\n",
       "\n",
       "    .dataframe thead th {\n",
       "        text-align: right;\n",
       "    }\n",
       "</style>\n",
       "<table border=\"1\" class=\"dataframe\">\n",
       "  <thead>\n",
       "    <tr style=\"text-align: right;\">\n",
       "      <th></th>\n",
       "      <th>Fronta</th>\n",
       "      <th>Dávka</th>\n",
       "      <th>TC kód</th>\n",
       "      <th>TO kód</th>\n",
       "      <th>Typ dokumentu</th>\n",
       "      <th>Pojistná smlouva</th>\n",
       "      <th>Pojistná událost</th>\n",
       "      <th>Číslo návrhu</th>\n",
       "      <th>Obchodní případ</th>\n",
       "      <th>ID dokumentu</th>\n",
       "      <th>Datum skenování</th>\n",
       "      <th>Pobočka</th>\n",
       "      <th>Pracovník</th>\n",
       "      <th>ID DA</th>\n",
       "      <th>Barva</th>\n",
       "      <th>Komentář</th>\n",
       "      <th>Typ zdroje</th>\n",
       "      <th>Zdroj</th>\n",
       "    </tr>\n",
       "  </thead>\n",
       "  <tbody>\n",
       "    <tr>\n",
       "      <th>0</th>\n",
       "      <td>GCP-ZP-TAS</td>\n",
       "      <td>MBM519260</td>\n",
       "      <td>NaN</td>\n",
       "      <td>NaN</td>\n",
       "      <td>Faktura za lékařský honorář</td>\n",
       "      <td>3177706818</td>\n",
       "      <td>NaN</td>\n",
       "      <td>NaN</td>\n",
       "      <td>NaN</td>\n",
       "      <td>47351106</td>\n",
       "      <td>01.03.2021</td>\n",
       "      <td>NaN</td>\n",
       "      <td>rbasova</td>\n",
       "      <td>755554731</td>\n",
       "      <td>Green</td>\n",
       "      <td>NaN</td>\n",
       "      <td>Pracovník</td>\n",
       "      <td>rbasova</td>\n",
       "    </tr>\n",
       "    <tr>\n",
       "      <th>299</th>\n",
       "      <td>GCP-NZ-TAS</td>\n",
       "      <td>MBM519381</td>\n",
       "      <td>NaN</td>\n",
       "      <td>NaN</td>\n",
       "      <td>Faktura</td>\n",
       "      <td>1779307918</td>\n",
       "      <td>NaN</td>\n",
       "      <td>NaN</td>\n",
       "      <td>NaN</td>\n",
       "      <td>47351776</td>\n",
       "      <td>01.03.2021</td>\n",
       "      <td>NaN</td>\n",
       "      <td>jmulacova</td>\n",
       "      <td>755563192</td>\n",
       "      <td>Green</td>\n",
       "      <td>NaN</td>\n",
       "      <td>Pracovník</td>\n",
       "      <td>jmulacova</td>\n",
       "    </tr>\n",
       "    <tr>\n",
       "      <th>300</th>\n",
       "      <td>GCP-NZ-TAS</td>\n",
       "      <td>MBM519836</td>\n",
       "      <td>NaN</td>\n",
       "      <td>NaN</td>\n",
       "      <td>Faktura</td>\n",
       "      <td>4288110901</td>\n",
       "      <td>NaN</td>\n",
       "      <td>NaN</td>\n",
       "      <td>NaN</td>\n",
       "      <td>47352908</td>\n",
       "      <td>01.03.2021</td>\n",
       "      <td>NaN</td>\n",
       "      <td>mmaier</td>\n",
       "      <td>755557239</td>\n",
       "      <td>Green</td>\n",
       "      <td>NaN</td>\n",
       "      <td>Pracovník</td>\n",
       "      <td>mmaier</td>\n",
       "    </tr>\n",
       "    <tr>\n",
       "      <th>783</th>\n",
       "      <td>GCP-NZ-TAS</td>\n",
       "      <td>MBM520119</td>\n",
       "      <td>NaN</td>\n",
       "      <td>NaN</td>\n",
       "      <td>Faktura</td>\n",
       "      <td>4488736857</td>\n",
       "      <td>NaN</td>\n",
       "      <td>NaN</td>\n",
       "      <td>NaN</td>\n",
       "      <td>47360253</td>\n",
       "      <td>02.03.2021</td>\n",
       "      <td>ČPD,Ostrava,Horní 1471,Slobodníková Jana</td>\n",
       "      <td>NaN</td>\n",
       "      <td>755609177</td>\n",
       "      <td>Green</td>\n",
       "      <td>NaN</td>\n",
       "      <td>Pobočka</td>\n",
       "      <td>ČPD,Ostrava,Horní 1471,Slobodníková Jana</td>\n",
       "    </tr>\n",
       "    <tr>\n",
       "      <th>1248</th>\n",
       "      <td>GCP-NZ-TAS</td>\n",
       "      <td>MBM522043</td>\n",
       "      <td>NaN</td>\n",
       "      <td>NaN</td>\n",
       "      <td>Faktura</td>\n",
       "      <td>4482488990</td>\n",
       "      <td>NaN</td>\n",
       "      <td>NaN</td>\n",
       "      <td>NaN</td>\n",
       "      <td>47392039</td>\n",
       "      <td>03.03.2021</td>\n",
       "      <td>NaN</td>\n",
       "      <td>danhoskova</td>\n",
       "      <td>755932405</td>\n",
       "      <td>Green</td>\n",
       "      <td>NaN</td>\n",
       "      <td>Pracovník</td>\n",
       "      <td>danhoskova</td>\n",
       "    </tr>\n",
       "    <tr>\n",
       "      <th>...</th>\n",
       "      <td>...</td>\n",
       "      <td>...</td>\n",
       "      <td>...</td>\n",
       "      <td>...</td>\n",
       "      <td>...</td>\n",
       "      <td>...</td>\n",
       "      <td>...</td>\n",
       "      <td>...</td>\n",
       "      <td>...</td>\n",
       "      <td>...</td>\n",
       "      <td>...</td>\n",
       "      <td>...</td>\n",
       "      <td>...</td>\n",
       "      <td>...</td>\n",
       "      <td>...</td>\n",
       "      <td>...</td>\n",
       "      <td>...</td>\n",
       "      <td>...</td>\n",
       "    </tr>\n",
       "    <tr>\n",
       "      <th>27822</th>\n",
       "      <td>GCP-NZ-TAS</td>\n",
       "      <td>MBM604595</td>\n",
       "      <td>NaN</td>\n",
       "      <td>NaN</td>\n",
       "      <td>Faktura</td>\n",
       "      <td>4286579531</td>\n",
       "      <td>NaN</td>\n",
       "      <td>NaN</td>\n",
       "      <td>NaN</td>\n",
       "      <td>48551529</td>\n",
       "      <td>27.05.2021</td>\n",
       "      <td>ČPD,Brno,Palackého tř. 124 - Semilasso,Brichta...</td>\n",
       "      <td>NaN</td>\n",
       "      <td>771243304</td>\n",
       "      <td>Green</td>\n",
       "      <td>NaN</td>\n",
       "      <td>Pobočka</td>\n",
       "      <td>ČPD,Brno,Palackého tř. 124 - Semilasso,Brichta...</td>\n",
       "    </tr>\n",
       "    <tr>\n",
       "      <th>28211</th>\n",
       "      <td>GCP-NZ-TAS</td>\n",
       "      <td>MBM605929</td>\n",
       "      <td>NaN</td>\n",
       "      <td>NaN</td>\n",
       "      <td>Faktura</td>\n",
       "      <td>1819522311</td>\n",
       "      <td>NaN</td>\n",
       "      <td>NaN</td>\n",
       "      <td>NaN</td>\n",
       "      <td>48571775</td>\n",
       "      <td>28.05.2021</td>\n",
       "      <td>NaN</td>\n",
       "      <td>mondrak</td>\n",
       "      <td>771560457</td>\n",
       "      <td>Green</td>\n",
       "      <td>NaN</td>\n",
       "      <td>Pracovník</td>\n",
       "      <td>mondrak</td>\n",
       "    </tr>\n",
       "    <tr>\n",
       "      <th>28212</th>\n",
       "      <td>GCP-NZ-TAS</td>\n",
       "      <td>MBM605930</td>\n",
       "      <td>NaN</td>\n",
       "      <td>NaN</td>\n",
       "      <td>Faktura</td>\n",
       "      <td>1819522311</td>\n",
       "      <td>NaN</td>\n",
       "      <td>NaN</td>\n",
       "      <td>NaN</td>\n",
       "      <td>48571777</td>\n",
       "      <td>28.05.2021</td>\n",
       "      <td>NaN</td>\n",
       "      <td>mondrak</td>\n",
       "      <td>771559547</td>\n",
       "      <td>Green</td>\n",
       "      <td>NaN</td>\n",
       "      <td>Pracovník</td>\n",
       "      <td>mondrak</td>\n",
       "    </tr>\n",
       "    <tr>\n",
       "      <th>28213</th>\n",
       "      <td>GCP-NZ-TAS</td>\n",
       "      <td>MBM605469</td>\n",
       "      <td>NaN</td>\n",
       "      <td>NaN</td>\n",
       "      <td>Faktura</td>\n",
       "      <td>4681276440</td>\n",
       "      <td>NaN</td>\n",
       "      <td>NaN</td>\n",
       "      <td>NaN</td>\n",
       "      <td>48565910</td>\n",
       "      <td>28.05.2021</td>\n",
       "      <td>NaN</td>\n",
       "      <td>pchreno</td>\n",
       "      <td>771349540</td>\n",
       "      <td>Green</td>\n",
       "      <td>NaN</td>\n",
       "      <td>Pracovník</td>\n",
       "      <td>pchreno</td>\n",
       "    </tr>\n",
       "    <tr>\n",
       "      <th>28781</th>\n",
       "      <td>GCP-NZ-TAS</td>\n",
       "      <td>MBM606297</td>\n",
       "      <td>NaN</td>\n",
       "      <td>NaN</td>\n",
       "      <td>Faktura</td>\n",
       "      <td>5052831619</td>\n",
       "      <td>NaN</td>\n",
       "      <td>NaN</td>\n",
       "      <td>NaN</td>\n",
       "      <td>48578114</td>\n",
       "      <td>31.05.2021</td>\n",
       "      <td>ČPD,Sokolov,Boženy Němcové 2065,Smolková Anna</td>\n",
       "      <td>NaN</td>\n",
       "      <td>771579373</td>\n",
       "      <td>Green</td>\n",
       "      <td>NaN</td>\n",
       "      <td>Pobočka</td>\n",
       "      <td>ČPD,Sokolov,Boženy Němcové 2065,Smolková Anna</td>\n",
       "    </tr>\n",
       "  </tbody>\n",
       "</table>\n",
       "<p>120 rows × 18 columns</p>\n",
       "</div>"
      ],
      "text/plain": [
       "           Fronta      Dávka TC kód TO kód                Typ dokumentu  \\\n",
       "0      GCP-ZP-TAS  MBM519260    NaN    NaN  Faktura za lékařský honorář   \n",
       "299    GCP-NZ-TAS  MBM519381    NaN    NaN                      Faktura   \n",
       "300    GCP-NZ-TAS  MBM519836    NaN    NaN                      Faktura   \n",
       "783    GCP-NZ-TAS  MBM520119    NaN    NaN                      Faktura   \n",
       "1248   GCP-NZ-TAS  MBM522043    NaN    NaN                      Faktura   \n",
       "...           ...        ...    ...    ...                          ...   \n",
       "27822  GCP-NZ-TAS  MBM604595    NaN    NaN                      Faktura   \n",
       "28211  GCP-NZ-TAS  MBM605929    NaN    NaN                      Faktura   \n",
       "28212  GCP-NZ-TAS  MBM605930    NaN    NaN                      Faktura   \n",
       "28213  GCP-NZ-TAS  MBM605469    NaN    NaN                      Faktura   \n",
       "28781  GCP-NZ-TAS  MBM606297    NaN    NaN                      Faktura   \n",
       "\n",
       "      Pojistná smlouva  Pojistná událost Číslo návrhu Obchodní případ  \\\n",
       "0           3177706818               NaN          NaN             NaN   \n",
       "299         1779307918               NaN          NaN             NaN   \n",
       "300         4288110901               NaN          NaN             NaN   \n",
       "783         4488736857               NaN          NaN             NaN   \n",
       "1248        4482488990               NaN          NaN             NaN   \n",
       "...                ...               ...          ...             ...   \n",
       "27822       4286579531               NaN          NaN             NaN   \n",
       "28211       1819522311               NaN          NaN             NaN   \n",
       "28212       1819522311               NaN          NaN             NaN   \n",
       "28213       4681276440               NaN          NaN             NaN   \n",
       "28781       5052831619               NaN          NaN             NaN   \n",
       "\n",
       "       ID dokumentu Datum skenování  \\\n",
       "0          47351106      01.03.2021   \n",
       "299        47351776      01.03.2021   \n",
       "300        47352908      01.03.2021   \n",
       "783        47360253      02.03.2021   \n",
       "1248       47392039      03.03.2021   \n",
       "...             ...             ...   \n",
       "27822      48551529      27.05.2021   \n",
       "28211      48571775      28.05.2021   \n",
       "28212      48571777      28.05.2021   \n",
       "28213      48565910      28.05.2021   \n",
       "28781      48578114      31.05.2021   \n",
       "\n",
       "                                                 Pobočka   Pracovník  \\\n",
       "0                                                    NaN     rbasova   \n",
       "299                                                  NaN   jmulacova   \n",
       "300                                                  NaN      mmaier   \n",
       "783             ČPD,Ostrava,Horní 1471,Slobodníková Jana         NaN   \n",
       "1248                                                 NaN  danhoskova   \n",
       "...                                                  ...         ...   \n",
       "27822  ČPD,Brno,Palackého tř. 124 - Semilasso,Brichta...         NaN   \n",
       "28211                                                NaN     mondrak   \n",
       "28212                                                NaN     mondrak   \n",
       "28213                                                NaN     pchreno   \n",
       "28781      ČPD,Sokolov,Boženy Němcové 2065,Smolková Anna         NaN   \n",
       "\n",
       "           ID DA  Barva Komentář Typ zdroje  \\\n",
       "0      755554731  Green      NaN  Pracovník   \n",
       "299    755563192  Green      NaN  Pracovník   \n",
       "300    755557239  Green      NaN  Pracovník   \n",
       "783    755609177  Green      NaN    Pobočka   \n",
       "1248   755932405  Green      NaN  Pracovník   \n",
       "...          ...    ...      ...        ...   \n",
       "27822  771243304  Green      NaN    Pobočka   \n",
       "28211  771560457  Green      NaN  Pracovník   \n",
       "28212  771559547  Green      NaN  Pracovník   \n",
       "28213  771349540  Green      NaN  Pracovník   \n",
       "28781  771579373  Green      NaN    Pobočka   \n",
       "\n",
       "                                                   Zdroj  \n",
       "0                                                rbasova  \n",
       "299                                            jmulacova  \n",
       "300                                               mmaier  \n",
       "783             ČPD,Ostrava,Horní 1471,Slobodníková Jana  \n",
       "1248                                          danhoskova  \n",
       "...                                                  ...  \n",
       "27822  ČPD,Brno,Palackého tř. 124 - Semilasso,Brichta...  \n",
       "28211                                            mondrak  \n",
       "28212                                            mondrak  \n",
       "28213                                            pchreno  \n",
       "28781      ČPD,Sokolov,Boženy Němcové 2065,Smolková Anna  \n",
       "\n",
       "[120 rows x 18 columns]"
      ]
     },
     "execution_count": 10,
     "metadata": {},
     "output_type": "execute_result"
    }
   ],
   "source": [
    "df_faktury = df[df['Typ dokumentu'].notna() & df['Typ dokumentu'].str.contains('aktur')]\n",
    "df_faktury"
   ]
  },
  {
   "cell_type": "code",
   "execution_count": 11,
   "id": "1eb334b7",
   "metadata": {},
   "outputs": [
    {
     "data": {
      "text/plain": [
       "array(['Faktura za lékařský honorář', 'Faktura',\n",
       "       'Faktura pohřební služby'], dtype=object)"
      ]
     },
     "execution_count": 11,
     "metadata": {},
     "output_type": "execute_result"
    }
   ],
   "source": [
    "df_faktury['Typ dokumentu'].unique()"
   ]
  },
  {
   "cell_type": "code",
   "execution_count": 12,
   "id": "01f043ec",
   "metadata": {},
   "outputs": [
    {
     "data": {
      "text/plain": [
       "Typ dokumentu\n",
       "Faktura                        108\n",
       "Faktura pohřební služby         10\n",
       "Faktura za lékařský honorář      2\n",
       "Name: ID dokumentu, dtype: int64"
      ]
     },
     "execution_count": 12,
     "metadata": {},
     "output_type": "execute_result"
    }
   ],
   "source": [
    "df_faktury.groupby('Typ dokumentu').count()['ID dokumentu']"
   ]
  },
  {
   "cell_type": "markdown",
   "id": "8a18c338",
   "metadata": {},
   "source": [
    "## Práce s datumem a časem"
   ]
  },
  {
   "cell_type": "code",
   "execution_count": 13,
   "id": "eb1ce01c",
   "metadata": {},
   "outputs": [
    {
     "data": {
      "text/plain": [
       "0        01.03.2021\n",
       "1        01.03.2021\n",
       "2        01.03.2021\n",
       "3        01.03.2021\n",
       "4        01.03.2021\n",
       "            ...    \n",
       "28779    31.05.2021\n",
       "28780    31.05.2021\n",
       "28781    31.05.2021\n",
       "28782    31.05.2021\n",
       "28783    31.05.2021\n",
       "Name: Datum skenování, Length: 28784, dtype: object"
      ]
     },
     "execution_count": 13,
     "metadata": {},
     "output_type": "execute_result"
    }
   ],
   "source": [
    "df['Datum skenování']"
   ]
  },
  {
   "cell_type": "code",
   "execution_count": 14,
   "id": "fa7c6144",
   "metadata": {},
   "outputs": [
    {
     "data": {
      "text/plain": [
       "0       2021-01-03\n",
       "1       2021-01-03\n",
       "2       2021-01-03\n",
       "3       2021-01-03\n",
       "4       2021-01-03\n",
       "           ...    \n",
       "28779   2021-05-31\n",
       "28780   2021-05-31\n",
       "28781   2021-05-31\n",
       "28782   2021-05-31\n",
       "28783   2021-05-31\n",
       "Name: Datum skenování, Length: 28784, dtype: datetime64[ns]"
      ]
     },
     "execution_count": 14,
     "metadata": {},
     "output_type": "execute_result"
    }
   ],
   "source": [
    "pd.to_datetime(df['Datum skenování'])"
   ]
  },
  {
   "cell_type": "code",
   "execution_count": 15,
   "id": "d41197de",
   "metadata": {},
   "outputs": [],
   "source": [
    "df['Datum skenování'] = pd.to_datetime(df['Datum skenování'], format=\"%d.%m.%Y\")"
   ]
  },
  {
   "cell_type": "code",
   "execution_count": 16,
   "id": "77c4a803",
   "metadata": {},
   "outputs": [
    {
     "data": {
      "text/plain": [
       "0         9\n",
       "1         9\n",
       "2         9\n",
       "3         9\n",
       "4         9\n",
       "         ..\n",
       "28779    22\n",
       "28780    22\n",
       "28781    22\n",
       "28782    22\n",
       "28783    22\n",
       "Name: week, Length: 28784, dtype: UInt32"
      ]
     },
     "execution_count": 16,
     "metadata": {},
     "output_type": "execute_result"
    }
   ],
   "source": [
    "df['Datum skenování'].dt.isocalendar().week"
   ]
  },
  {
   "cell_type": "code",
   "execution_count": 17,
   "id": "ba58c855",
   "metadata": {},
   "outputs": [],
   "source": [
    "df['Týden'] = df['Datum skenování'].dt.isocalendar().week"
   ]
  },
  {
   "cell_type": "code",
   "execution_count": 18,
   "id": "1cc0ee4d",
   "metadata": {},
   "outputs": [
    {
     "data": {
      "text/plain": [
       "<IntegerArray>\n",
       "[9, 10, 11, 12, 13, 14, 15, 16, 17, 18, 19, 20, 21, 22]\n",
       "Length: 14, dtype: UInt32"
      ]
     },
     "execution_count": 18,
     "metadata": {},
     "output_type": "execute_result"
    }
   ],
   "source": [
    "df['Týden'].unique()"
   ]
  },
  {
   "cell_type": "markdown",
   "id": "872d9971",
   "metadata": {},
   "source": [
    "## Kontingenční tabulky"
   ]
  },
  {
   "cell_type": "code",
   "execution_count": 48,
   "id": "f79231a8",
   "metadata": {},
   "outputs": [],
   "source": [
    "%matplotlib inline\n",
    "import matplotlib.pyplot as plt\n",
    "plt.rcParams['axes.facecolor'] = 'gray'\n",
    "plt.rcParams['figure.figsize'] = (20,5)"
   ]
  },
  {
   "cell_type": "code",
   "execution_count": null,
   "id": "f09d3e09",
   "metadata": {},
   "outputs": [],
   "source": []
  },
  {
   "cell_type": "code",
   "execution_count": 67,
   "id": "4603211b",
   "metadata": {},
   "outputs": [],
   "source": [
    "def pivot_table(df, columns):\n",
    "    return df.groupby(columns).count()['ID dokumentu'].unstack().fillna(0)\n",
    "\n",
    "pivot_week = pivot_table(df, ['Týden', 'Barva'])\n",
    "\n"
   ]
  },
  {
   "cell_type": "code",
   "execution_count": 68,
   "id": "b73a9c7a",
   "metadata": {},
   "outputs": [
    {
     "data": {
      "image/png": "[encoded data removed]",
      "text/plain": [
       "<Figure size 1440x360 with 1 Axes>"
      ]
     },
     "metadata": {
      "needs_background": "light"
     },
     "output_type": "display_data"
    }
   ],
   "source": [
    "pivot_week.plot.bar(color=pivot_week.columns);"
   ]
  },
  {
   "cell_type": "code",
   "execution_count": 69,
   "id": "3475121f",
   "metadata": {},
   "outputs": [
    {
     "data": {
      "text/plain": [
       "<AxesSubplot:xlabel='Týden'>"
      ]
     },
     "execution_count": 69,
     "metadata": {},
     "output_type": "execute_result"
    },
    {
     "data": {
      "image/png": "[encoded data removed]",
      "text/plain": [
       "<Figure size 1440x360 with 1 Axes>"
      ]
     },
     "metadata": {
      "needs_background": "light"
     },
     "output_type": "display_data"
    }
   ],
   "source": [
    "(pivot_week['Blue']/pivot_week['Green']).plot.bar()"
   ]
  },
  {
   "cell_type": "code",
   "execution_count": 70,
   "id": "09ee0c61",
   "metadata": {},
   "outputs": [
    {
     "data": {
      "text/html": [
       "<div>\n",
       "<style scoped>\n",
       "    .dataframe tbody tr th:only-of-type {\n",
       "        vertical-align: middle;\n",
       "    }\n",
       "\n",
       "    .dataframe tbody tr th {\n",
       "        vertical-align: top;\n",
       "    }\n",
       "\n",
       "    .dataframe thead th {\n",
       "        text-align: right;\n",
       "    }\n",
       "</style>\n",
       "<table border=\"1\" class=\"dataframe\">\n",
       "  <thead>\n",
       "    <tr style=\"text-align: right;\">\n",
       "      <th>Barva</th>\n",
       "      <th>Blue</th>\n",
       "      <th>Green</th>\n",
       "      <th>Orange</th>\n",
       "      <th>Red</th>\n",
       "      <th>White</th>\n",
       "    </tr>\n",
       "    <tr>\n",
       "      <th>Typ zdroje</th>\n",
       "      <th></th>\n",
       "      <th></th>\n",
       "      <th></th>\n",
       "      <th></th>\n",
       "      <th></th>\n",
       "    </tr>\n",
       "  </thead>\n",
       "  <tbody>\n",
       "    <tr>\n",
       "      <th>Pobočka</th>\n",
       "      <td>1771</td>\n",
       "      <td>8297</td>\n",
       "      <td>3</td>\n",
       "      <td>1151</td>\n",
       "      <td>73</td>\n",
       "    </tr>\n",
       "    <tr>\n",
       "      <th>Pracovník</th>\n",
       "      <td>2785</td>\n",
       "      <td>10982</td>\n",
       "      <td>2</td>\n",
       "      <td>3561</td>\n",
       "      <td>159</td>\n",
       "    </tr>\n",
       "  </tbody>\n",
       "</table>\n",
       "</div>"
      ],
      "text/plain": [
       "Barva       Blue  Green  Orange   Red  White\n",
       "Typ zdroje                                  \n",
       "Pobočka     1771   8297       3  1151     73\n",
       "Pracovník   2785  10982       2  3561    159"
      ]
     },
     "execution_count": 70,
     "metadata": {},
     "output_type": "execute_result"
    }
   ],
   "source": [
    "pivot_typ_zdroje = pivot_table(df, ['Typ zdroje', 'Barva'])\n",
    "pivot_typ_zdroje"
   ]
  },
  {
   "cell_type": "code",
   "execution_count": 71,
   "id": "63478f6f",
   "metadata": {},
   "outputs": [
    {
     "data": {
      "image/png": "[encoded data removed]",
      "text/plain": [
       "<Figure size 1440x360 with 1 Axes>"
      ]
     },
     "metadata": {
      "needs_background": "light"
     },
     "output_type": "display_data"
    }
   ],
   "source": [
    "df_typ_zdroje.plot.bar(color=df_typ_zdroje.columns);"
   ]
  },
  {
   "cell_type": "code",
   "execution_count": 72,
   "id": "d3ff2bc1",
   "metadata": {},
   "outputs": [
    {
     "data": {
      "text/plain": [
       "Typ zdroje\n",
       "Pobočka      0.213451\n",
       "Pracovník    0.253597\n",
       "dtype: float64"
      ]
     },
     "execution_count": 72,
     "metadata": {},
     "output_type": "execute_result"
    }
   ],
   "source": [
    "df_typ_zdroje['Blue']/df_typ_zdroje['Green']"
   ]
  },
  {
   "cell_type": "code",
   "execution_count": null,
   "id": "1f797155",
   "metadata": {},
   "outputs": [],
   "source": []
  },
  {
   "cell_type": "markdown",
   "id": "e9273344",
   "metadata": {},
   "source": [
    "# #############"
   ]
  },
  {
   "cell_type": "code",
   "execution_count": 106,
   "id": "26422bcc",
   "metadata": {},
   "outputs": [],
   "source": [
    "df.fillna(\"\", inplace=True)"
   ]
  },
  {
   "cell_type": "code",
   "execution_count": 32,
   "id": "f0a0749c",
   "metadata": {},
   "outputs": [],
   "source": [
    "df['Zdroj'] = df['Pracovník'] + df['Pobočka']"
   ]
  },
  {
   "cell_type": "code",
   "execution_count": 33,
   "id": "bd898a70",
   "metadata": {},
   "outputs": [],
   "source": [
    "df_blue = df[df[\"Barva\"]==\"Blue\"]"
   ]
  },
  {
   "cell_type": "code",
   "execution_count": 34,
   "id": "bd10ce5e",
   "metadata": {},
   "outputs": [
    {
     "data": {
      "text/html": [
       "<div>\n",
       "<style scoped>\n",
       "    .dataframe tbody tr th:only-of-type {\n",
       "        vertical-align: middle;\n",
       "    }\n",
       "\n",
       "    .dataframe tbody tr th {\n",
       "        vertical-align: top;\n",
       "    }\n",
       "\n",
       "    .dataframe thead th {\n",
       "        text-align: right;\n",
       "    }\n",
       "</style>\n",
       "<table border=\"1\" class=\"dataframe\">\n",
       "  <thead>\n",
       "    <tr style=\"text-align: right;\">\n",
       "      <th></th>\n",
       "      <th>Fronta</th>\n",
       "      <th>Dávka</th>\n",
       "      <th>TC kód</th>\n",
       "      <th>TO kód</th>\n",
       "      <th>Typ dokumentu</th>\n",
       "      <th>Pojistná smlouva</th>\n",
       "      <th>Pojistná událost</th>\n",
       "      <th>Číslo návrhu</th>\n",
       "      <th>Obchodní případ</th>\n",
       "      <th>ID dokumentu</th>\n",
       "      <th>Datum skenování</th>\n",
       "      <th>Pobočka</th>\n",
       "      <th>Pracovník</th>\n",
       "      <th>ID DA</th>\n",
       "      <th>Barva</th>\n",
       "      <th>Komentář</th>\n",
       "      <th>Zdroj</th>\n",
       "    </tr>\n",
       "  </thead>\n",
       "  <tbody>\n",
       "    <tr>\n",
       "      <th>1</th>\n",
       "      <td>GCP-NZ-TAS</td>\n",
       "      <td>MBM518665</td>\n",
       "      <td>TC77007100029</td>\n",
       "      <td>O1040056629629A</td>\n",
       "      <td></td>\n",
       "      <td></td>\n",
       "      <td></td>\n",
       "      <td></td>\n",
       "      <td></td>\n",
       "      <td>47343449</td>\n",
       "      <td>01.03.2021</td>\n",
       "      <td></td>\n",
       "      <td>marbartos</td>\n",
       "      <td>755279603</td>\n",
       "      <td>Blue</td>\n",
       "      <td></td>\n",
       "      <td>marbartos</td>\n",
       "    </tr>\n",
       "    <tr>\n",
       "      <th>2</th>\n",
       "      <td>GCP-NZ-TAS</td>\n",
       "      <td>MBM519319</td>\n",
       "      <td>TC4300300101A</td>\n",
       "      <td></td>\n",
       "      <td>Žádost o storno-papír</td>\n",
       "      <td>2577839312</td>\n",
       "      <td></td>\n",
       "      <td></td>\n",
       "      <td></td>\n",
       "      <td>47351511</td>\n",
       "      <td>01.03.2021</td>\n",
       "      <td></td>\n",
       "      <td>olangaskova</td>\n",
       "      <td>755565836</td>\n",
       "      <td>Blue</td>\n",
       "      <td></td>\n",
       "      <td>olangaskova</td>\n",
       "    </tr>\n",
       "    <tr>\n",
       "      <th>3</th>\n",
       "      <td>GCP-NZ-TAS</td>\n",
       "      <td>MBM518545</td>\n",
       "      <td>TC4301800001A</td>\n",
       "      <td></td>\n",
       "      <td>Žádost o storno-papír</td>\n",
       "      <td>4087213766</td>\n",
       "      <td></td>\n",
       "      <td></td>\n",
       "      <td></td>\n",
       "      <td>47342288</td>\n",
       "      <td>01.03.2021</td>\n",
       "      <td>ČPD,Olomouc,Nábřeží přemyslovců 867/8,Hafnerov...</td>\n",
       "      <td></td>\n",
       "      <td>755252958</td>\n",
       "      <td>Blue</td>\n",
       "      <td></td>\n",
       "      <td>ČPD,Olomouc,Nábřeží přemyslovců 867/8,Hafnerov...</td>\n",
       "    </tr>\n",
       "    <tr>\n",
       "      <th>7</th>\n",
       "      <td>GCP-ZP-TAS</td>\n",
       "      <td>MBM519385</td>\n",
       "      <td></td>\n",
       "      <td></td>\n",
       "      <td>Mobilní_sken_směrování</td>\n",
       "      <td>141342012</td>\n",
       "      <td></td>\n",
       "      <td></td>\n",
       "      <td></td>\n",
       "      <td>47351883</td>\n",
       "      <td>01.03.2021</td>\n",
       "      <td></td>\n",
       "      <td>nprchla</td>\n",
       "      <td>755564293</td>\n",
       "      <td>Blue</td>\n",
       "      <td></td>\n",
       "      <td>nprchla</td>\n",
       "    </tr>\n",
       "    <tr>\n",
       "      <th>10</th>\n",
       "      <td>GCP-NZ-TAS</td>\n",
       "      <td>MBM519365</td>\n",
       "      <td></td>\n",
       "      <td></td>\n",
       "      <td>Mobilní_sken_směrování</td>\n",
       "      <td>4280040286</td>\n",
       "      <td></td>\n",
       "      <td></td>\n",
       "      <td></td>\n",
       "      <td>47351710</td>\n",
       "      <td>01.03.2021</td>\n",
       "      <td>ČPD,Jablonec nad Nisou,Mírové náměstí 490/12,D...</td>\n",
       "      <td></td>\n",
       "      <td>755566393</td>\n",
       "      <td>Blue</td>\n",
       "      <td></td>\n",
       "      <td>ČPD,Jablonec nad Nisou,Mírové náměstí 490/12,D...</td>\n",
       "    </tr>\n",
       "  </tbody>\n",
       "</table>\n",
       "</div>"
      ],
      "text/plain": [
       "        Fronta      Dávka         TC kód           TO kód  \\\n",
       "1   GCP-NZ-TAS  MBM518665  TC77007100029  O1040056629629A   \n",
       "2   GCP-NZ-TAS  MBM519319  TC4300300101A                    \n",
       "3   GCP-NZ-TAS  MBM518545  TC4301800001A                    \n",
       "7   GCP-ZP-TAS  MBM519385                                   \n",
       "10  GCP-NZ-TAS  MBM519365                                   \n",
       "\n",
       "             Typ dokumentu Pojistná smlouva Pojistná událost Číslo návrhu  \\\n",
       "1                                                                           \n",
       "2    Žádost o storno-papír       2577839312                                 \n",
       "3    Žádost o storno-papír       4087213766                                 \n",
       "7   Mobilní_sken_směrování        141342012                                 \n",
       "10  Mobilní_sken_směrování       4280040286                                 \n",
       "\n",
       "   Obchodní případ  ID dokumentu Datum skenování  \\\n",
       "1                       47343449      01.03.2021   \n",
       "2                       47351511      01.03.2021   \n",
       "3                       47342288      01.03.2021   \n",
       "7                       47351883      01.03.2021   \n",
       "10                      47351710      01.03.2021   \n",
       "\n",
       "                                              Pobočka    Pracovník      ID DA  \\\n",
       "1                                                        marbartos  755279603   \n",
       "2                                                      olangaskova  755565836   \n",
       "3   ČPD,Olomouc,Nábřeží přemyslovců 867/8,Hafnerov...               755252958   \n",
       "7                                                          nprchla  755564293   \n",
       "10  ČPD,Jablonec nad Nisou,Mírové náměstí 490/12,D...               755566393   \n",
       "\n",
       "   Barva Komentář                                              Zdroj  \n",
       "1   Blue                                                   marbartos  \n",
       "2   Blue                                                 olangaskova  \n",
       "3   Blue           ČPD,Olomouc,Nábřeží přemyslovců 867/8,Hafnerov...  \n",
       "7   Blue                                                     nprchla  \n",
       "10  Blue           ČPD,Jablonec nad Nisou,Mírové náměstí 490/12,D...  "
      ]
     },
     "execution_count": 34,
     "metadata": {},
     "output_type": "execute_result"
    }
   ],
   "source": [
    "df_blue.head()"
   ]
  },
  {
   "cell_type": "code",
   "execution_count": 35,
   "id": "d5441659",
   "metadata": {},
   "outputs": [
    {
     "data": {
      "text/plain": [
       "Zdroj\n",
       "PRAHA, Na Pankráci 1658/121, 0. NP, přepážka GLI, G717M330435    134\n",
       "petrdanek                                                        108\n",
       "GD,Brno,Veveří 111,GUTHOVÁ PETRA                                  74\n",
       "ČPD,Břeclav,nám. TGM 10,Lodesová Marta                            63\n",
       "ČPD,Litoměřice,Jezuitská 237/7,Kracíková Dana                     56\n",
       "                                                                ... \n",
       "mastejnarova                                                       1\n",
       "agrombir                                                           1\n",
       "matzeman                                                           1\n",
       "mazahradkova                                                       1\n",
       "masamkova                                                          1\n",
       "Name: Barva, Length: 1076, dtype: int64"
      ]
     },
     "execution_count": 35,
     "metadata": {},
     "output_type": "execute_result"
    }
   ],
   "source": [
    "summary = df_blue.groupby(\"Zdroj\").count()[\"Barva\"].sort_values(ascending=False)\n",
    "summary"
   ]
  },
  {
   "cell_type": "code",
   "execution_count": 36,
   "id": "c7606569",
   "metadata": {},
   "outputs": [
    {
     "data": {
      "text/plain": [
       "(28784, 17)"
      ]
     },
     "execution_count": 36,
     "metadata": {},
     "output_type": "execute_result"
    }
   ],
   "source": [
    "df.shape"
   ]
  },
  {
   "cell_type": "code",
   "execution_count": 60,
   "id": "0bcb6eef",
   "metadata": {},
   "outputs": [
    {
     "data": {
      "text/plain": [
       "633"
      ]
     },
     "execution_count": 60,
     "metadata": {},
     "output_type": "execute_result"
    }
   ],
   "source": [
    "summary[:10].sum()"
   ]
  },
  {
   "cell_type": "code",
   "execution_count": 62,
   "id": "c7d62393",
   "metadata": {},
   "outputs": [
    {
     "data": {
      "text/plain": [
       "29671.875000000004"
      ]
     },
     "execution_count": 62,
     "metadata": {},
     "output_type": "execute_result"
    }
   ],
   "source": [
    "summary[:10].sum()*10/60/160*45000"
   ]
  },
  {
   "cell_type": "code",
   "execution_count": 38,
   "id": "ce295aec",
   "metadata": {},
   "outputs": [
    {
     "data": {
      "text/plain": [
       "0.1455223880597015"
      ]
     },
     "execution_count": 38,
     "metadata": {},
     "output_type": "execute_result"
    }
   ],
   "source": [
    "663/4556"
   ]
  },
  {
   "cell_type": "code",
   "execution_count": 39,
   "id": "cf66253d",
   "metadata": {},
   "outputs": [
    {
     "data": {
      "text/plain": [
       "Zdroj\n",
       "PRAHA, Na Pankráci 1658/121, 0. NP, přepážka GLI, G717M330435    134\n",
       "petrdanek                                                        108\n",
       "GD,Brno,Veveří 111,GUTHOVÁ PETRA                                  74\n",
       "ČPD,Břeclav,nám. TGM 10,Lodesová Marta                            63\n",
       "ČPD,Litoměřice,Jezuitská 237/7,Kracíková Dana                     56\n",
       "Liberec, Felberova 604                                            47\n",
       "ČPD,Karlovy Vary,Jaltská 1,Lukášová Marcela                       44\n",
       "ČPD,Plzeň,Slovanská Alej 24,Stará Marta                           41\n",
       "ČPD,Domažlice,Sadová 636,Poucha Jan                               34\n",
       "ČPD,Náchod,Plhovská 340,Trojovská Monika                          32\n",
       "Name: Barva, dtype: int64"
      ]
     },
     "execution_count": 39,
     "metadata": {},
     "output_type": "execute_result"
    }
   ],
   "source": [
    "summary[:10]"
   ]
  },
  {
   "cell_type": "code",
   "execution_count": 45,
   "id": "85498faf",
   "metadata": {},
   "outputs": [
    {
     "data": {
      "text/plain": [
       "5.333333333333333"
      ]
     },
     "execution_count": 45,
     "metadata": {},
     "output_type": "execute_result"
    }
   ],
   "source": [
    "hodiny_petrdanek = 32*10/60\n",
    "hodiny_petrdanek"
   ]
  },
  {
   "cell_type": "code",
   "execution_count": 41,
   "id": "48a6dbd3",
   "metadata": {},
   "outputs": [
    {
     "data": {
      "text/plain": [
       "1076"
      ]
     },
     "execution_count": 41,
     "metadata": {},
     "output_type": "execute_result"
    }
   ],
   "source": [
    "df_blue[\"Zdroj\"].unique().size"
   ]
  },
  {
   "cell_type": "code",
   "execution_count": 42,
   "id": "2cc939b0",
   "metadata": {},
   "outputs": [
    {
     "data": {
      "text/plain": [
       "1867"
      ]
     },
     "execution_count": 42,
     "metadata": {},
     "output_type": "execute_result"
    }
   ],
   "source": [
    "df[\"Zdroj\"].unique().size"
   ]
  },
  {
   "cell_type": "code",
   "execution_count": 46,
   "id": "ddbf69c0",
   "metadata": {},
   "outputs": [],
   "source": [
    "summary_all = df.groupby(\"Zdroj\").count()[\"Barva\"].sort_values(ascending=False)"
   ]
  },
  {
   "cell_type": "code",
   "execution_count": 48,
   "id": "f2b20186",
   "metadata": {},
   "outputs": [
    {
     "data": {
      "text/plain": [
       "132"
      ]
     },
     "execution_count": 48,
     "metadata": {},
     "output_type": "execute_result"
    }
   ],
   "source": [
    "summary_all['petrdanek']"
   ]
  },
  {
   "cell_type": "code",
   "execution_count": 49,
   "id": "c504be3e",
   "metadata": {},
   "outputs": [
    {
     "data": {
      "text/plain": [
       "0.8181818181818182"
      ]
     },
     "execution_count": 49,
     "metadata": {},
     "output_type": "execute_result"
    }
   ],
   "source": [
    "summary['petrdanek']/summary_all['petrdanek']"
   ]
  },
  {
   "cell_type": "code",
   "execution_count": 50,
   "id": "c1d231d6",
   "metadata": {},
   "outputs": [
    {
     "data": {
      "text/plain": [
       "0.5583333333333333"
      ]
     },
     "execution_count": 50,
     "metadata": {},
     "output_type": "execute_result"
    }
   ],
   "source": [
    "summary['PRAHA, Na Pankráci 1658/121, 0. NP, přepážka GLI, G717M330435']/summary_all['PRAHA, Na Pankráci 1658/121, 0. NP, přepážka GLI, G717M330435']"
   ]
  },
  {
   "cell_type": "code",
   "execution_count": null,
   "id": "e112f73c",
   "metadata": {},
   "outputs": [],
   "source": []
  }
 ],
 "metadata": {
  "kernelspec": {
   "display_name": "Python 3",
   "language": "python",
   "name": "python3"
  },
  "language_info": {
   "codemirror_mode": {
    "name": "ipython",
    "version": 3
   },
   "file_extension": ".py",
   "mimetype": "text/x-python",
   "name": "python",
   "nbconvert_exporter": "python",
   "pygments_lexer": "ipython3",
   "version": "3.9.6"
  }
 },
 "nbformat": 4,
 "nbformat_minor": 5
}
